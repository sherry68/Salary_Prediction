{
 "cells": [
  {
   "cell_type": "markdown",
   "metadata": {
    "colab_type": "text",
    "id": "oz0JEz94wi3R"
   },
   "source": [
    "### Salary Classification\n",
    " - The goal of this project is to understand employment situation of data scientists and create a prediction model of data scientist's yearly compensation. \n",
    " \n",
    " - This is the very first project that set me on the journey as a data scientist. This project is definitely not perfect, but I'm happy to learn a lot when exploring the data and it was fun. \n",
    "\n",
    "#### Table of Content\n",
    "1. Import libraries\n",
    "2. Read in data\n",
    "3. General information of the data\n",
    "4. Data cleaning\n",
    " - 4.1 Multiple response question\n",
    " - 4.2 Single response question\n",
    " - 4.2.1 Encode with integer\n",
    " - 4.2.2 One hot encoding\n",
    "5. Exploratory data analysis\n",
    "6. Feature selection\n",
    "7. Model implementation\n",
    " - 7.1 Neural Network\n",
    " - 7.2 Logistic Regression\n",
    "8. Model tuning\n",
    "9. Testing and discussion"
   ]
  },
  {
   "cell_type": "markdown",
   "metadata": {
    "colab_type": "text",
    "id": "wPKuTn9jwi3X"
   },
   "source": [
    "### 1. Import libraries"
   ]
  },
  {
   "cell_type": "code",
   "execution_count": 1,
   "metadata": {
    "colab": {},
    "colab_type": "code",
    "id": "H9onhDf0wi3a"
   },
   "outputs": [],
   "source": [
    "import pandas as pd\n",
    "import numpy as np\n",
    "import matplotlib.pyplot as plt\n",
    "import seaborn as sns\n",
    "from sklearn.linear_model import Lasso, LinearRegression, LogisticRegression\n",
    "from sklearn.model_selection import train_test_split, KFold, cross_val_score\n",
    "from sklearn.preprocessing import StandardScaler\n",
    "from sklearn.metrics import accuracy_score, recall_score, log_loss"
   ]
  },
  {
   "cell_type": "markdown",
   "metadata": {
    "colab_type": "text",
    "id": "XUVFRrMZwi3j"
   },
   "source": [
    "### 2. Read in data"
   ]
  },
  {
   "cell_type": "code",
   "execution_count": 2,
   "metadata": {
    "colab": {
     "base_uri": "https://localhost:8080/",
     "height": 771
    },
    "colab_type": "code",
    "id": "XBbEo06jwi3l",
    "outputId": "e29352ee-1b1d-42d5-b9fd-9665d206132d"
   },
   "outputs": [
    {
     "name": "stderr",
     "output_type": "stream",
     "text": [
      "C:\\Users\\yuzij\\Anaconda3\\lib\\site-packages\\IPython\\core\\interactiveshell.py:3057: DtypeWarning: Columns (73,77,114,146,153,171,175,212,224,228,231) have mixed types. Specify dtype option on import or set low_memory=False.\n",
      "  interactivity=interactivity, compiler=compiler, result=result)\n"
     ]
    },
    {
     "data": {
      "text/html": [
       "<div>\n",
       "<style scoped>\n",
       "    .dataframe tbody tr th:only-of-type {\n",
       "        vertical-align: middle;\n",
       "    }\n",
       "\n",
       "    .dataframe tbody tr th {\n",
       "        vertical-align: top;\n",
       "    }\n",
       "\n",
       "    .dataframe thead th {\n",
       "        text-align: right;\n",
       "    }\n",
       "</style>\n",
       "<table border=\"1\" class=\"dataframe\">\n",
       "  <thead>\n",
       "    <tr style=\"text-align: right;\">\n",
       "      <th></th>\n",
       "      <th>Time from Start to Finish (seconds)</th>\n",
       "      <th>Q1</th>\n",
       "      <th>Q2</th>\n",
       "      <th>Q2_OTHER_TEXT</th>\n",
       "      <th>Q3</th>\n",
       "      <th>Q4</th>\n",
       "      <th>Q5</th>\n",
       "      <th>Q5_OTHER_TEXT</th>\n",
       "      <th>Q6</th>\n",
       "      <th>Q7</th>\n",
       "      <th>...</th>\n",
       "      <th>Q34_Part_6</th>\n",
       "      <th>Q34_Part_7</th>\n",
       "      <th>Q34_Part_8</th>\n",
       "      <th>Q34_Part_9</th>\n",
       "      <th>Q34_Part_10</th>\n",
       "      <th>Q34_Part_11</th>\n",
       "      <th>Q34_Part_12</th>\n",
       "      <th>Q34_OTHER_TEXT</th>\n",
       "      <th>Q10_Encoded</th>\n",
       "      <th>Q10_buckets</th>\n",
       "    </tr>\n",
       "  </thead>\n",
       "  <tbody>\n",
       "    <tr>\n",
       "      <th>0</th>\n",
       "      <td>510</td>\n",
       "      <td>22-24</td>\n",
       "      <td>Male</td>\n",
       "      <td>-1</td>\n",
       "      <td>France</td>\n",
       "      <td>Master’s degree</td>\n",
       "      <td>Software Engineer</td>\n",
       "      <td>-1</td>\n",
       "      <td>1000-9,999 employees</td>\n",
       "      <td>0</td>\n",
       "      <td>...</td>\n",
       "      <td>NaN</td>\n",
       "      <td>NaN</td>\n",
       "      <td>NaN</td>\n",
       "      <td>NaN</td>\n",
       "      <td>NaN</td>\n",
       "      <td>NaN</td>\n",
       "      <td>NaN</td>\n",
       "      <td>-1</td>\n",
       "      <td>3</td>\n",
       "      <td>30,000-39,999</td>\n",
       "    </tr>\n",
       "    <tr>\n",
       "      <th>1</th>\n",
       "      <td>423</td>\n",
       "      <td>40-44</td>\n",
       "      <td>Male</td>\n",
       "      <td>-1</td>\n",
       "      <td>India</td>\n",
       "      <td>Professional degree</td>\n",
       "      <td>Software Engineer</td>\n",
       "      <td>-1</td>\n",
       "      <td>&gt; 10,000 employees</td>\n",
       "      <td>20+</td>\n",
       "      <td>...</td>\n",
       "      <td>NaN</td>\n",
       "      <td>NaN</td>\n",
       "      <td>NaN</td>\n",
       "      <td>NaN</td>\n",
       "      <td>NaN</td>\n",
       "      <td>NaN</td>\n",
       "      <td>NaN</td>\n",
       "      <td>-1</td>\n",
       "      <td>0</td>\n",
       "      <td>0-9,999</td>\n",
       "    </tr>\n",
       "    <tr>\n",
       "      <th>2</th>\n",
       "      <td>391</td>\n",
       "      <td>40-44</td>\n",
       "      <td>Male</td>\n",
       "      <td>-1</td>\n",
       "      <td>Australia</td>\n",
       "      <td>Master’s degree</td>\n",
       "      <td>Other</td>\n",
       "      <td>0</td>\n",
       "      <td>&gt; 10,000 employees</td>\n",
       "      <td>20+</td>\n",
       "      <td>...</td>\n",
       "      <td>NaN</td>\n",
       "      <td>NaN</td>\n",
       "      <td>NaN</td>\n",
       "      <td>Azure SQL Database</td>\n",
       "      <td>NaN</td>\n",
       "      <td>NaN</td>\n",
       "      <td>NaN</td>\n",
       "      <td>-1</td>\n",
       "      <td>14</td>\n",
       "      <td>&gt;250,000</td>\n",
       "    </tr>\n",
       "    <tr>\n",
       "      <th>3</th>\n",
       "      <td>392</td>\n",
       "      <td>22-24</td>\n",
       "      <td>Male</td>\n",
       "      <td>-1</td>\n",
       "      <td>India</td>\n",
       "      <td>Bachelor’s degree</td>\n",
       "      <td>Other</td>\n",
       "      <td>1</td>\n",
       "      <td>0-49 employees</td>\n",
       "      <td>0</td>\n",
       "      <td>...</td>\n",
       "      <td>NaN</td>\n",
       "      <td>NaN</td>\n",
       "      <td>NaN</td>\n",
       "      <td>NaN</td>\n",
       "      <td>NaN</td>\n",
       "      <td>NaN</td>\n",
       "      <td>NaN</td>\n",
       "      <td>-1</td>\n",
       "      <td>0</td>\n",
       "      <td>0-9,999</td>\n",
       "    </tr>\n",
       "    <tr>\n",
       "      <th>4</th>\n",
       "      <td>470</td>\n",
       "      <td>50-54</td>\n",
       "      <td>Male</td>\n",
       "      <td>-1</td>\n",
       "      <td>France</td>\n",
       "      <td>Master’s degree</td>\n",
       "      <td>Data Scientist</td>\n",
       "      <td>-1</td>\n",
       "      <td>0-49 employees</td>\n",
       "      <td>3-4</td>\n",
       "      <td>...</td>\n",
       "      <td>NaN</td>\n",
       "      <td>AWS Relational Database Service</td>\n",
       "      <td>NaN</td>\n",
       "      <td>NaN</td>\n",
       "      <td>NaN</td>\n",
       "      <td>NaN</td>\n",
       "      <td>NaN</td>\n",
       "      <td>-1</td>\n",
       "      <td>6</td>\n",
       "      <td>60,000-69,999</td>\n",
       "    </tr>\n",
       "  </tbody>\n",
       "</table>\n",
       "<p>5 rows × 248 columns</p>\n",
       "</div>"
      ],
      "text/plain": [
       "   Time from Start to Finish (seconds)     Q1    Q2  Q2_OTHER_TEXT         Q3  \\\n",
       "0                                  510  22-24  Male             -1     France   \n",
       "1                                  423  40-44  Male             -1      India   \n",
       "2                                  391  40-44  Male             -1  Australia   \n",
       "3                                  392  22-24  Male             -1      India   \n",
       "4                                  470  50-54  Male             -1     France   \n",
       "\n",
       "                    Q4                 Q5  Q5_OTHER_TEXT  \\\n",
       "0      Master’s degree  Software Engineer             -1   \n",
       "1  Professional degree  Software Engineer             -1   \n",
       "2      Master’s degree              Other              0   \n",
       "3    Bachelor’s degree              Other              1   \n",
       "4      Master’s degree     Data Scientist             -1   \n",
       "\n",
       "                     Q6   Q7  ... Q34_Part_6                       Q34_Part_7  \\\n",
       "0  1000-9,999 employees    0  ...        NaN                              NaN   \n",
       "1    > 10,000 employees  20+  ...        NaN                              NaN   \n",
       "2    > 10,000 employees  20+  ...        NaN                              NaN   \n",
       "3        0-49 employees    0  ...        NaN                              NaN   \n",
       "4        0-49 employees  3-4  ...        NaN  AWS Relational Database Service   \n",
       "\n",
       "  Q34_Part_8          Q34_Part_9 Q34_Part_10 Q34_Part_11 Q34_Part_12  \\\n",
       "0        NaN                 NaN         NaN         NaN         NaN   \n",
       "1        NaN                 NaN         NaN         NaN         NaN   \n",
       "2        NaN  Azure SQL Database         NaN         NaN         NaN   \n",
       "3        NaN                 NaN         NaN         NaN         NaN   \n",
       "4        NaN                 NaN         NaN         NaN         NaN   \n",
       "\n",
       "  Q34_OTHER_TEXT Q10_Encoded    Q10_buckets  \n",
       "0             -1           3  30,000-39,999  \n",
       "1             -1           0        0-9,999  \n",
       "2             -1          14       >250,000  \n",
       "3             -1           0        0-9,999  \n",
       "4             -1           6  60,000-69,999  \n",
       "\n",
       "[5 rows x 248 columns]"
      ]
     },
     "execution_count": 2,
     "metadata": {},
     "output_type": "execute_result"
    }
   ],
   "source": [
    "df = pd.read_csv('Kaggle_Salary.csv')\n",
    "df.head()"
   ]
  },
  {
   "cell_type": "markdown",
   "metadata": {
    "colab_type": "text",
    "id": "BDaC5R2Owi3t"
   },
   "source": [
    "### 3. General information of the data\n",
    " - set m to be the number of samples\n",
    " - set n to be the number of columns"
   ]
  },
  {
   "cell_type": "code",
   "execution_count": 3,
   "metadata": {
    "colab": {
     "base_uri": "https://localhost:8080/",
     "height": 34
    },
    "colab_type": "code",
    "id": "k3uOwp8Iwi3v",
    "outputId": "d91724b1-658c-4996-d65c-7f9ef2b15d7a"
   },
   "outputs": [
    {
     "name": "stdout",
     "output_type": "stream",
     "text": [
      "12497 248\n"
     ]
    }
   ],
   "source": [
    "m,n=df.shape\n",
    "print (m,n)"
   ]
  },
  {
   "cell_type": "markdown",
   "metadata": {
    "colab_type": "text",
    "id": "uXbTIBsewi32"
   },
   "source": [
    "Show target."
   ]
  },
  {
   "cell_type": "code",
   "execution_count": 4,
   "metadata": {},
   "outputs": [
    {
     "data": {
      "text/html": [
       "<div>\n",
       "<style scoped>\n",
       "    .dataframe tbody tr th:only-of-type {\n",
       "        vertical-align: middle;\n",
       "    }\n",
       "\n",
       "    .dataframe tbody tr th {\n",
       "        vertical-align: top;\n",
       "    }\n",
       "\n",
       "    .dataframe thead th {\n",
       "        text-align: right;\n",
       "    }\n",
       "</style>\n",
       "<table border=\"1\" class=\"dataframe\">\n",
       "  <thead>\n",
       "    <tr style=\"text-align: right;\">\n",
       "      <th></th>\n",
       "      <th>Q10</th>\n",
       "      <th>Q10_Encoded</th>\n",
       "    </tr>\n",
       "  </thead>\n",
       "  <tbody>\n",
       "    <tr>\n",
       "      <th>0</th>\n",
       "      <td>30,000-39,999</td>\n",
       "      <td>3</td>\n",
       "    </tr>\n",
       "    <tr>\n",
       "      <th>1</th>\n",
       "      <td>5,000-7,499</td>\n",
       "      <td>0</td>\n",
       "    </tr>\n",
       "    <tr>\n",
       "      <th>2</th>\n",
       "      <td>250,000-299,999</td>\n",
       "      <td>14</td>\n",
       "    </tr>\n",
       "    <tr>\n",
       "      <th>3</th>\n",
       "      <td>4,000-4,999</td>\n",
       "      <td>0</td>\n",
       "    </tr>\n",
       "    <tr>\n",
       "      <th>4</th>\n",
       "      <td>60,000-69,999</td>\n",
       "      <td>6</td>\n",
       "    </tr>\n",
       "  </tbody>\n",
       "</table>\n",
       "</div>"
      ],
      "text/plain": [
       "               Q10  Q10_Encoded\n",
       "0    30,000-39,999            3\n",
       "1      5,000-7,499            0\n",
       "2  250,000-299,999           14\n",
       "3      4,000-4,999            0\n",
       "4    60,000-69,999            6"
      ]
     },
     "execution_count": 4,
     "metadata": {},
     "output_type": "execute_result"
    }
   ],
   "source": [
    "df[['Q10', 'Q10_Encoded']].head()"
   ]
  },
  {
   "cell_type": "code",
   "execution_count": 5,
   "metadata": {
    "colab": {
     "base_uri": "https://localhost:8080/",
     "height": 34
    },
    "colab_type": "code",
    "id": "wlCusfp1wi34",
    "outputId": "48efc955-1a64-48ef-df80-bbca8ff4ae94"
   },
   "outputs": [
    {
     "data": {
      "text/plain": [
       "array([ 3,  0, 14,  6,  1,  8,  7,  9, 11,  4,  2, 10, 12, 13,  5],\n",
       "      dtype=int64)"
      ]
     },
     "execution_count": 5,
     "metadata": {},
     "output_type": "execute_result"
    }
   ],
   "source": [
    "df['Q10_Encoded'].unique()"
   ]
  },
  {
   "cell_type": "markdown",
   "metadata": {
    "colab_type": "text",
    "id": "tNeOW4Rdwi4A"
   },
   "source": [
    "Show null values in each column as a heatmap. Red parts indicate null values."
   ]
  },
  {
   "cell_type": "code",
   "execution_count": 6,
   "metadata": {
    "colab": {
     "base_uri": "https://localhost:8080/",
     "height": 666
    },
    "colab_type": "code",
    "id": "dWOSqOB5wi4D",
    "outputId": "982d03b0-b24f-4ae9-9155-548beb998685"
   },
   "outputs": [
    {
     "data": {
      "text/plain": [
       "<matplotlib.axes._subplots.AxesSubplot at 0x1d7bb2539e8>"
      ]
     },
     "execution_count": 6,
     "metadata": {},
     "output_type": "execute_result"
    },
    {
     "data": {
      "image/png": "[encoded data removed]",
      "text/plain": [
       "<Figure size 864x576 with 1 Axes>"
      ]
     },
     "metadata": {
      "needs_background": "light"
     },
     "output_type": "display_data"
    }
   ],
   "source": [
    "fig, ax = plt.subplots(figsize=(12,8))\n",
    "sns.heatmap(df.isnull(), cmap='coolwarm', yticklabels=False, cbar=False, ax=ax)"
   ]
  },
  {
   "cell_type": "markdown",
   "metadata": {
    "colab_type": "text",
    "id": "82OFFChYwi4J"
   },
   "source": [
    "For a single response question, respondents may miss the question and not provide answer. For a multiple response question, missing values are mainly due to that respondents did not select the option. We need to deal with the two types of questions in different ways."
   ]
  },
  {
   "cell_type": "markdown",
   "metadata": {
    "colab_type": "text",
    "id": "uLThqnJBwi4L"
   },
   "source": [
    "### 4. Data cleaning\n",
    "Drop all 'Other_Text' columns. 'Other_Text' column is simply used to count how many times 'other' appears for a question, and it is not useful in classification model."
   ]
  },
  {
   "cell_type": "code",
   "execution_count": 7,
   "metadata": {
    "colab": {},
    "colab_type": "code",
    "id": "SUDB_0Ytwi4N"
   },
   "outputs": [],
   "source": [
    "# drop columns of 'other_text'\n",
    "\n",
    "key = 'OTHER_TEXT'\n",
    "ot = df.columns[df.columns.str.contains(key)==True]\n",
    "df1 = df.drop(ot, axis=1)"
   ]
  },
  {
   "cell_type": "markdown",
   "metadata": {
    "colab_type": "text",
    "id": "xVam0BQiwi4T"
   },
   "source": [
    "#### 4.1 Multiple response question\n",
    "First, let's select the multiple response questions from all 34 questions."
   ]
  },
  {
   "cell_type": "code",
   "execution_count": 8,
   "metadata": {
    "colab": {
     "base_uri": "https://localhost:8080/",
     "height": 362
    },
    "colab_type": "code",
    "id": "KAezVR7Rwi4V",
    "outputId": "86268c1f-1d9e-4701-f776-a898ec02b10e"
   },
   "outputs": [
    {
     "data": {
      "text/plain": [
       "['Q9',\n",
       " 'Q12',\n",
       " 'Q13',\n",
       " 'Q14',\n",
       " 'Q16',\n",
       " 'Q17',\n",
       " 'Q18',\n",
       " 'Q20',\n",
       " 'Q21',\n",
       " 'Q24',\n",
       " 'Q25',\n",
       " 'Q26',\n",
       " 'Q27',\n",
       " 'Q28',\n",
       " 'Q29',\n",
       " 'Q30',\n",
       " 'Q31',\n",
       " 'Q32',\n",
       " 'Q33',\n",
       " 'Q34']"
      ]
     },
     "execution_count": 8,
     "metadata": {},
     "output_type": "execute_result"
    }
   ],
   "source": [
    "# we know that there are total 34 questions\n",
    "qlist = []\n",
    "for i in range(34):\n",
    "    key_str = 'Q'+str(i+1)+'_P'\n",
    "    k = df.columns[df.columns.str.contains(key_str)==True]\n",
    "    if len(k)>0:\n",
    "        qlist.append(key_str.replace('_P',''))\n",
    "qlist"
   ]
  },
  {
   "cell_type": "markdown",
   "metadata": {
    "colab_type": "text",
    "id": "LaNAgIQswi4c"
   },
   "source": [
    "Show the entire set of multiple response questions."
   ]
  },
  {
   "cell_type": "code",
   "execution_count": 9,
   "metadata": {
    "colab": {},
    "colab_type": "code",
    "id": "ARxhxFXHwi4d"
   },
   "outputs": [
    {
     "data": {
      "text/plain": [
       "[Index(['Q9_Part_1', 'Q9_Part_2', 'Q9_Part_3', 'Q9_Part_4', 'Q9_Part_5',\n",
       "        'Q9_Part_6', 'Q9_Part_7', 'Q9_Part_8'],\n",
       "       dtype='object'),\n",
       " Index(['Q12_Part_1', 'Q12_Part_2', 'Q12_Part_3', 'Q12_Part_4', 'Q12_Part_5',\n",
       "        'Q12_Part_6', 'Q12_Part_7', 'Q12_Part_8', 'Q12_Part_9', 'Q12_Part_10',\n",
       "        'Q12_Part_11', 'Q12_Part_12'],\n",
       "       dtype='object'),\n",
       " Index(['Q13_Part_1', 'Q13_Part_2', 'Q13_Part_3', 'Q13_Part_4', 'Q13_Part_5',\n",
       "        'Q13_Part_6', 'Q13_Part_7', 'Q13_Part_8', 'Q13_Part_9', 'Q13_Part_10',\n",
       "        'Q13_Part_11', 'Q13_Part_12'],\n",
       "       dtype='object'),\n",
       " Index(['Q14', 'Q14_Part_1_TEXT', 'Q14_Part_2_TEXT', 'Q14_Part_3_TEXT',\n",
       "        'Q14_Part_4_TEXT', 'Q14_Part_5_TEXT'],\n",
       "       dtype='object'),\n",
       " Index(['Q16_Part_1', 'Q16_Part_2', 'Q16_Part_3', 'Q16_Part_4', 'Q16_Part_5',\n",
       "        'Q16_Part_6', 'Q16_Part_7', 'Q16_Part_8', 'Q16_Part_9', 'Q16_Part_10',\n",
       "        'Q16_Part_11', 'Q16_Part_12'],\n",
       "       dtype='object'),\n",
       " Index(['Q17_Part_1', 'Q17_Part_2', 'Q17_Part_3', 'Q17_Part_4', 'Q17_Part_5',\n",
       "        'Q17_Part_6', 'Q17_Part_7', 'Q17_Part_8', 'Q17_Part_9', 'Q17_Part_10',\n",
       "        'Q17_Part_11', 'Q17_Part_12'],\n",
       "       dtype='object'),\n",
       " Index(['Q18_Part_1', 'Q18_Part_2', 'Q18_Part_3', 'Q18_Part_4', 'Q18_Part_5',\n",
       "        'Q18_Part_6', 'Q18_Part_7', 'Q18_Part_8', 'Q18_Part_9', 'Q18_Part_10',\n",
       "        'Q18_Part_11', 'Q18_Part_12'],\n",
       "       dtype='object'),\n",
       " Index(['Q20_Part_1', 'Q20_Part_2', 'Q20_Part_3', 'Q20_Part_4', 'Q20_Part_5',\n",
       "        'Q20_Part_6', 'Q20_Part_7', 'Q20_Part_8', 'Q20_Part_9', 'Q20_Part_10',\n",
       "        'Q20_Part_11', 'Q20_Part_12'],\n",
       "       dtype='object'),\n",
       " Index(['Q21_Part_1', 'Q21_Part_2', 'Q21_Part_3', 'Q21_Part_4', 'Q21_Part_5'], dtype='object'),\n",
       " Index(['Q24_Part_1', 'Q24_Part_2', 'Q24_Part_3', 'Q24_Part_4', 'Q24_Part_5',\n",
       "        'Q24_Part_6', 'Q24_Part_7', 'Q24_Part_8', 'Q24_Part_9', 'Q24_Part_10',\n",
       "        'Q24_Part_11', 'Q24_Part_12'],\n",
       "       dtype='object'),\n",
       " Index(['Q25_Part_1', 'Q25_Part_2', 'Q25_Part_3', 'Q25_Part_4', 'Q25_Part_5',\n",
       "        'Q25_Part_6', 'Q25_Part_7', 'Q25_Part_8'],\n",
       "       dtype='object'),\n",
       " Index(['Q26_Part_1', 'Q26_Part_2', 'Q26_Part_3', 'Q26_Part_4', 'Q26_Part_5',\n",
       "        'Q26_Part_6', 'Q26_Part_7'],\n",
       "       dtype='object'),\n",
       " Index(['Q27_Part_1', 'Q27_Part_2', 'Q27_Part_3', 'Q27_Part_4', 'Q27_Part_5',\n",
       "        'Q27_Part_6'],\n",
       "       dtype='object'),\n",
       " Index(['Q28_Part_1', 'Q28_Part_2', 'Q28_Part_3', 'Q28_Part_4', 'Q28_Part_5',\n",
       "        'Q28_Part_6', 'Q28_Part_7', 'Q28_Part_8', 'Q28_Part_9', 'Q28_Part_10',\n",
       "        'Q28_Part_11', 'Q28_Part_12'],\n",
       "       dtype='object'),\n",
       " Index(['Q29_Part_1', 'Q29_Part_2', 'Q29_Part_3', 'Q29_Part_4', 'Q29_Part_5',\n",
       "        'Q29_Part_6', 'Q29_Part_7', 'Q29_Part_8', 'Q29_Part_9', 'Q29_Part_10',\n",
       "        'Q29_Part_11', 'Q29_Part_12'],\n",
       "       dtype='object'),\n",
       " Index(['Q30_Part_1', 'Q30_Part_2', 'Q30_Part_3', 'Q30_Part_4', 'Q30_Part_5',\n",
       "        'Q30_Part_6', 'Q30_Part_7', 'Q30_Part_8', 'Q30_Part_9', 'Q30_Part_10',\n",
       "        'Q30_Part_11', 'Q30_Part_12'],\n",
       "       dtype='object'),\n",
       " Index(['Q31_Part_1', 'Q31_Part_2', 'Q31_Part_3', 'Q31_Part_4', 'Q31_Part_5',\n",
       "        'Q31_Part_6', 'Q31_Part_7', 'Q31_Part_8', 'Q31_Part_9', 'Q31_Part_10',\n",
       "        'Q31_Part_11', 'Q31_Part_12'],\n",
       "       dtype='object'),\n",
       " Index(['Q32_Part_1', 'Q32_Part_2', 'Q32_Part_3', 'Q32_Part_4', 'Q32_Part_5',\n",
       "        'Q32_Part_6', 'Q32_Part_7', 'Q32_Part_8', 'Q32_Part_9', 'Q32_Part_10',\n",
       "        'Q32_Part_11', 'Q32_Part_12'],\n",
       "       dtype='object'),\n",
       " Index(['Q33_Part_1', 'Q33_Part_2', 'Q33_Part_3', 'Q33_Part_4', 'Q33_Part_5',\n",
       "        'Q33_Part_6', 'Q33_Part_7', 'Q33_Part_8', 'Q33_Part_9', 'Q33_Part_10',\n",
       "        'Q33_Part_11', 'Q33_Part_12'],\n",
       "       dtype='object'),\n",
       " Index(['Q34_Part_1', 'Q34_Part_2', 'Q34_Part_3', 'Q34_Part_4', 'Q34_Part_5',\n",
       "        'Q34_Part_6', 'Q34_Part_7', 'Q34_Part_8', 'Q34_Part_9', 'Q34_Part_10',\n",
       "        'Q34_Part_11', 'Q34_Part_12'],\n",
       "       dtype='object')]"
      ]
     },
     "execution_count": 9,
     "metadata": {},
     "output_type": "execute_result"
    }
   ],
   "source": [
    "mqlist = []\n",
    "for q in qlist:\n",
    "    k = df1.columns[df1.columns.str.contains(q)==True]\n",
    "    mqlist.append(k)\n",
    "mqlist"
   ]
  },
  {
   "cell_type": "markdown",
   "metadata": {
    "colab_type": "text",
    "id": "GbTxeBNMwi4j"
   },
   "source": [
    "Notice there is difference between 'Q14' and other multiple response questions. \n",
    " - 'Q14' is actually a single response question. The parts of 'Q14' indicate which option of 'Q14' is selected. \n",
    " - We eliminate 'Q14' from the multiple response question list."
   ]
  },
  {
   "cell_type": "code",
   "execution_count": 10,
   "metadata": {
    "colab": {},
    "colab_type": "code",
    "id": "6egNSI24wi4l"
   },
   "outputs": [],
   "source": [
    "qlist.remove('Q14')"
   ]
  },
  {
   "cell_type": "markdown",
   "metadata": {
    "colab_type": "text",
    "id": "A96gTWOYwi4r"
   },
   "source": [
    "Create a column to store the number of options a sample selected for each multiple response question."
   ]
  },
  {
   "cell_type": "code",
   "execution_count": 11,
   "metadata": {
    "colab": {},
    "colab_type": "code",
    "id": "6kA9hcAkwi4s"
   },
   "outputs": [],
   "source": [
    "# count options selected for each multiple response question\n",
    "for i in range(len(qlist)):\n",
    "    mu = df1.columns[df1.columns.str.contains(qlist[i])==True]   #select parts of a multiple response question\n",
    "    notnanlist = df1[mu].notnull().sum(axis=1) \n",
    "    countname = qlist[i]+'_count'\n",
    "    df1[countname] = notnanlist"
   ]
  },
  {
   "cell_type": "markdown",
   "metadata": {
    "colab_type": "text",
    "id": "OzeI1kYCwi4y"
   },
   "source": [
    "A sample missed a multiple response question if the sample has NaN values for all parts of the multiple response question, which means 'count'=0 in this case. "
   ]
  },
  {
   "cell_type": "code",
   "execution_count": 12,
   "metadata": {
    "colab": {
     "base_uri": "https://localhost:8080/",
     "height": 362
    },
    "colab_type": "code",
    "id": "sXwN-ewHwi4z",
    "outputId": "81f49be3-6645-47fc-a6b7-bb48ee36fd2e"
   },
   "outputs": [
    {
     "data": {
      "text/plain": [
       "Q9_count     3462\n",
       "Q12_count     494\n",
       "Q13_count     605\n",
       "Q16_count    1718\n",
       "Q17_count    1816\n",
       "Q18_count    1834\n",
       "Q20_count    1920\n",
       "Q21_count    1940\n",
       "Q24_count    1990\n",
       "Q25_count    2053\n",
       "Q26_count    8477\n",
       "Q27_count    9703\n",
       "Q28_count    2123\n",
       "Q29_count    5372\n",
       "Q30_count    5397\n",
       "Q31_count    5419\n",
       "Q32_count    5447\n",
       "Q33_count    5482\n",
       "Q34_count    5503\n",
       "dtype: int64"
      ]
     },
     "execution_count": 12,
     "metadata": {},
     "output_type": "execute_result"
    }
   ],
   "source": [
    "count_columns = df1[df1.columns[df1.columns.str.contains('count')==True]]\n",
    "count_columns.eq(0).sum()"
   ]
  },
  {
   "cell_type": "markdown",
   "metadata": {
    "colab_type": "text",
    "id": "KM9os2OLwi45"
   },
   "source": [
    "Remove questions that contain missing values exceeding 60% of total samples (=7498 in this dataset). For a feature that contains a large amount of missing values, it is less likely that the feature would provide useful information for classification model. Besides, it lacks enough information to help fill in the missing values. \n",
    "- 'Q26_count' and 'Q27_count' have 0 values more than 8000. We drop all parts of 'Q26' and 'Q27'. "
   ]
  },
  {
   "cell_type": "code",
   "execution_count": 13,
   "metadata": {
    "colab": {},
    "colab_type": "code",
    "id": "2fwUb98nwi47"
   },
   "outputs": [],
   "source": [
    "# drop columns that contain missing values exceeding 60% of total samples\n",
    "drop = 0.6*m\n",
    "for i in range(len(qlist)):\n",
    "    if count_columns.eq(0).sum()[i]>drop:\n",
    "        a = df1.columns[df1.columns.str.contains(qlist[i])]\n",
    "        for j in range(len(a)):\n",
    "            df1 = df1.drop(a[j], axis=1)\n"
   ]
  },
  {
   "cell_type": "code",
   "execution_count": 14,
   "metadata": {
    "colab": {},
    "colab_type": "code",
    "id": "WpsJ2o6Kwi4_"
   },
   "outputs": [],
   "source": [
    "qlist.remove('Q26')\n",
    "qlist.remove('Q27')"
   ]
  },
  {
   "cell_type": "markdown",
   "metadata": {
    "colab_type": "text",
    "id": "rd9jVnGowi5C"
   },
   "source": [
    "For the rest, fill in missing values of a sample with modes for the samples in the same 'Q10_Encoded'(salary) category.\n",
    "- There are total 15 (0-14) categories of salary.\n",
    "- This method makes more samples belonging to the same salary category share same values for features."
   ]
  },
  {
   "cell_type": "code",
   "execution_count": 15,
   "metadata": {
    "colab": {},
    "colab_type": "code",
    "id": "xrXsfIPHwi5D"
   },
   "outputs": [],
   "source": [
    "for mq in qlist:   #for a multiple response question \n",
    "    mqlist = df1.columns[df1.columns.str.contains(mq+'_Part')]   #select all parts of the multiple response question \n",
    "    non_nanlist = df1[df1[mq+'_count']!=0]    #exclude samples with missing values\n",
    "    indexlist = df1.index[df1[mq+'_count']==0]    #select samples with missing values\n",
    "\n",
    "    for part in mqlist:   #for a part of the multiple response question\n",
    "        for i in range(15):    \n",
    "            sam_i = non_nanlist[non_nanlist['Q10_Encoded']==i]   #select non-null samples with salary category i\n",
    "            mo=sam_i[part].mode(dropna=False)[0]   #return mode of the part for salary category i\n",
    "            if type(mo)==str:     #type(nan) returns float; otherwise type(mode) returns str\n",
    "                                  #if the mode is 'nan', there is no need to fill in the missing value 'nan'\n",
    "                for j in indexlist:\n",
    "                    if df1.loc[j, 'Q10_Encoded']==i:    #check if the sample belongs to salary category i\n",
    "                        df1.loc[j,part]=mo      #fill in the missing value with the mode\n"
   ]
  },
  {
   "cell_type": "markdown",
   "metadata": {
    "colab_type": "text",
    "id": "Hachx1Xbwi5G"
   },
   "source": [
    "Update the 'count' columns and check if there is 'count'=0."
   ]
  },
  {
   "cell_type": "code",
   "execution_count": 16,
   "metadata": {
    "colab": {},
    "colab_type": "code",
    "id": "D5RHj7cAwi5H"
   },
   "outputs": [],
   "source": [
    "for i in range(len(qlist)):\n",
    "    mu = df1.columns[df1.columns.str.contains(qlist[i])==True]   #select parts of a multiple response question\n",
    "    notnanlist = df1[mu].notnull().sum(axis=1) \n",
    "    df1[qlist[i]+'_count'] = notnanlist"
   ]
  },
  {
   "cell_type": "code",
   "execution_count": 17,
   "metadata": {
    "colab": {
     "base_uri": "https://localhost:8080/",
     "height": 327
    },
    "colab_type": "code",
    "id": "CnXFTEwwwi5M",
    "outputId": "57343757-8968-4a63-d35a-4726b6b32bf5"
   },
   "outputs": [
    {
     "data": {
      "text/plain": [
       "Q9_count     0\n",
       "Q12_count    0\n",
       "Q13_count    0\n",
       "Q16_count    0\n",
       "Q17_count    0\n",
       "Q18_count    0\n",
       "Q20_count    0\n",
       "Q21_count    0\n",
       "Q24_count    0\n",
       "Q25_count    0\n",
       "Q28_count    0\n",
       "Q29_count    0\n",
       "Q30_count    0\n",
       "Q31_count    0\n",
       "Q32_count    0\n",
       "Q33_count    0\n",
       "Q34_count    0\n",
       "dtype: int64"
      ]
     },
     "execution_count": 17,
     "metadata": {},
     "output_type": "execute_result"
    }
   ],
   "source": [
    "count_column = df1[df1.columns[df1.columns.str.contains('count')]]\n",
    "count_column.eq(0).sum()"
   ]
  },
  {
   "cell_type": "markdown",
   "metadata": {
    "colab_type": "text",
    "id": "ffEBuiDOwi5Q"
   },
   "source": [
    "Drop useless features: the parts that contain NaN values more than 60% of total samples."
   ]
  },
  {
   "cell_type": "code",
   "execution_count": 18,
   "metadata": {
    "colab": {},
    "colab_type": "code",
    "id": "R_5ZR2AEwi5R"
   },
   "outputs": [],
   "source": [
    "for mq in qlist:   \n",
    "  mqlist = df1.columns[df1.columns.str.contains(mq+'_Part')]   \n",
    "  for part in mqlist: \n",
    "    nan_sum = df1[part].isnull().sum()\n",
    "    if nan_sum>0.6*m:\n",
    "      df1 = df1.drop(part, axis=1)"
   ]
  },
  {
   "cell_type": "markdown",
   "metadata": {
    "colab_type": "text",
    "id": "xmMYQ0Iywi5U"
   },
   "source": [
    "Now we can encode the multiple response questions. \n",
    "- 0: nan\n",
    "- 1: not nan"
   ]
  },
  {
   "cell_type": "code",
   "execution_count": 19,
   "metadata": {
    "colab": {},
    "colab_type": "code",
    "id": "n4ibr31ywi5V"
   },
   "outputs": [],
   "source": [
    "for mq in qlist:   \n",
    "    mqlist = df1.columns[df1.columns.str.contains(mq+'_Part')]   \n",
    "    for part in mqlist: \n",
    "        partlist = df1[part].unique()\n",
    "        if type(partlist[0])==str:\n",
    "            codelist = {partlist[0]:1, partlist[1]:0}   \n",
    "        else: \n",
    "            codelist = {partlist[0]:0, partlist[1]:1}\n",
    "        df1 = df1.replace({part:codelist})\n",
    "        "
   ]
  },
  {
   "cell_type": "markdown",
   "metadata": {
    "colab_type": "text",
    "id": "bkg5RK0ywi5Y"
   },
   "source": [
    "Now all mutiple response questions are cleaned. Let's look at single response questions."
   ]
  },
  {
   "cell_type": "markdown",
   "metadata": {
    "colab_type": "text",
    "id": "6O1bxQU5wi5Z"
   },
   "source": [
    "#### 4.2 Single response question\n",
    "First, select all single response questions."
   ]
  },
  {
   "cell_type": "code",
   "execution_count": 20,
   "metadata": {
    "colab": {},
    "colab_type": "code",
    "id": "bDdaZan6wi5a"
   },
   "outputs": [],
   "source": [
    "df2 = df1\n",
    "for mq in qlist:\n",
    "    mqlist = df1.columns[df1.columns.str.contains(mq)]\n",
    "    df2 = df2.drop(mqlist, axis=1)\n"
   ]
  },
  {
   "cell_type": "code",
   "execution_count": 21,
   "metadata": {
    "colab": {
     "base_uri": "https://localhost:8080/",
     "height": 431
    },
    "colab_type": "code",
    "id": "FgHvc7l_wi5h",
    "outputId": "6d9d7fa5-e845-426a-be36-554706e3081f"
   },
   "outputs": [
    {
     "data": {
      "text/plain": [
       "Time from Start to Finish (seconds)       0\n",
       "Q1                                        0\n",
       "Q2                                        0\n",
       "Q3                                        0\n",
       "Q4                                        0\n",
       "Q5                                        0\n",
       "Q6                                        0\n",
       "Q7                                        0\n",
       "Q8                                        0\n",
       "Q10                                       0\n",
       "Q11                                     247\n",
       "Q14                                    1045\n",
       "Q14_Part_1_TEXT                           0\n",
       "Q14_Part_2_TEXT                           0\n",
       "Q14_Part_3_TEXT                           0\n",
       "Q14_Part_4_TEXT                           0\n",
       "Q14_Part_5_TEXT                           0\n",
       "Q15                                    1075\n",
       "Q19                                    1844\n",
       "Q22                                    1947\n",
       "Q23                                    1956\n",
       "Q10_Encoded                               0\n",
       "Q10_buckets                               0\n",
       "dtype: int64"
      ]
     },
     "execution_count": 21,
     "metadata": {},
     "output_type": "execute_result"
    }
   ],
   "source": [
    "df2.isnull().sum()"
   ]
  },
  {
   "cell_type": "markdown",
   "metadata": {
    "colab_type": "text",
    "id": "QMSEGRORwi5k"
   },
   "source": [
    "Similarly, fill in missing values of a sample with modes for the samples in the same 'Q10_Encoded'(salary) category."
   ]
  },
  {
   "cell_type": "code",
   "execution_count": 22,
   "metadata": {
    "colab": {},
    "colab_type": "code",
    "id": "O8I2knO4wi5l"
   },
   "outputs": [],
   "source": [
    "b = df2.isnull().sum()\n",
    "nan_index = b.index[b != 0]\n",
    "for j in nan_index:\n",
    "    non_nanlist = df2[df2[j].notnull()]   #exclude samples with null values\n",
    "    indexlist = df2.index[df2[j].isnull()]    #select samples with missing values\n",
    "    \n",
    "    for i in range(15):\n",
    "        sam_i = non_nanlist[non_nanlist['Q10_Encoded']==i]   #select non-null samples with salary category i\n",
    "        mo=sam_i[j].mode(dropna=False)[0]   #return mode of the part for salary category i\n",
    "        if type(mo)==str:     #type(nan) returns float; otherwise type(mode) returns str\n",
    "                                  #if the mode is 'nan', there is no need to fill in the missing value 'nan'\n",
    "            for k in indexlist:\n",
    "                if df2.loc[k, 'Q10_Encoded']==i:    #check if the sample belongs to salary category i\n",
    "                    df2.loc[k, j]=mo     \n",
    " "
   ]
  },
  {
   "cell_type": "markdown",
   "metadata": {
    "colab_type": "text",
    "id": "hVmv98zdsCg-"
   },
   "source": [
    "Check if there is still null values in the dataframe."
   ]
  },
  {
   "cell_type": "code",
   "execution_count": 23,
   "metadata": {
    "colab": {
     "base_uri": "https://localhost:8080/",
     "height": 431
    },
    "colab_type": "code",
    "id": "3i8ViSeYwi5p",
    "outputId": "5cc49990-38e7-4997-a0d8-8a3139cbde65"
   },
   "outputs": [
    {
     "data": {
      "text/plain": [
       "Time from Start to Finish (seconds)    0\n",
       "Q1                                     0\n",
       "Q2                                     0\n",
       "Q3                                     0\n",
       "Q4                                     0\n",
       "Q5                                     0\n",
       "Q6                                     0\n",
       "Q7                                     0\n",
       "Q8                                     0\n",
       "Q10                                    0\n",
       "Q11                                    0\n",
       "Q14                                    0\n",
       "Q14_Part_1_TEXT                        0\n",
       "Q14_Part_2_TEXT                        0\n",
       "Q14_Part_3_TEXT                        0\n",
       "Q14_Part_4_TEXT                        0\n",
       "Q14_Part_5_TEXT                        0\n",
       "Q15                                    0\n",
       "Q19                                    0\n",
       "Q22                                    0\n",
       "Q23                                    0\n",
       "Q10_Encoded                            0\n",
       "Q10_buckets                            0\n",
       "dtype: int64"
      ]
     },
     "execution_count": 23,
     "metadata": {},
     "output_type": "execute_result"
    }
   ],
   "source": [
    "df2.isnull().sum()"
   ]
  },
  {
   "cell_type": "markdown",
   "metadata": {
    "colab_type": "text",
    "id": "ysMI1aY5wi5s"
   },
   "source": [
    "Single response questions need encoding separately. The way of encoding depends on content of the column.\n",
    "- Encode with integers\n",
    "- One hot encoding"
   ]
  },
  {
   "cell_type": "markdown",
   "metadata": {
    "colab_type": "text",
    "id": "F6ylJvVuwi53"
   },
   "source": [
    "##### 4.2.1 Encode with integers\n",
    "If there is ordered relationship in input values of a column, such as level of education or numbers, the column could be encoded with integers. "
   ]
  },
  {
   "cell_type": "code",
   "execution_count": 24,
   "metadata": {
    "colab": {},
    "colab_type": "code",
    "id": "OghlZlH8wi57"
   },
   "outputs": [],
   "source": [
    "# encode 'Q1'(age)\n",
    "q1 = df2['Q1'].unique()\n",
    "q1code = np.array([1,5,7,8,3,0,4,2,6,9,10])\n",
    "q1_dict = dict(zip(q1,q1code))"
   ]
  },
  {
   "cell_type": "code",
   "execution_count": 25,
   "metadata": {
    "colab": {},
    "colab_type": "code",
    "id": "V_uSoRcvwi6E"
   },
   "outputs": [],
   "source": [
    "#encode 'Q4'(education)\n",
    "q4 = df2['Q4'].unique()\n",
    "q4code = np.array([5,4,3,6,2,1,0])\n",
    "q4_dict = dict(zip(q4, q4code))"
   ]
  },
  {
   "cell_type": "code",
   "execution_count": 26,
   "metadata": {
    "colab": {},
    "colab_type": "code",
    "id": "jRwqTEDmwi6P"
   },
   "outputs": [],
   "source": [
    "#encode 'Q6'(size of company)\n",
    "q6 = df2['Q6'].unique()\n",
    "q6code = np.array([4,5,1,2,3])\n",
    "q6_dict = dict(zip(q6, q6code))"
   ]
  },
  {
   "cell_type": "code",
   "execution_count": 27,
   "metadata": {
    "colab": {},
    "colab_type": "code",
    "id": "BcMk_Jkzwi6Y"
   },
   "outputs": [],
   "source": [
    "#encode 'Q7'(number of individuals working on data science)\n",
    "q7 = df2['Q7'].unique()\n",
    "q7code = np.array([0,6,2,1,3,4,5])\n",
    "q7_dict = dict(zip(q7, q7code))"
   ]
  },
  {
   "cell_type": "code",
   "execution_count": 28,
   "metadata": {
    "colab": {},
    "colab_type": "code",
    "id": "f7dtG1Piwi6f"
   },
   "outputs": [],
   "source": [
    "# encode 'Q8'(use of ML)\n",
    "q8 = df2['Q8'].unique()\n",
    "q8code = np.array([0,5,1,2,3,4])\n",
    "q8_dict = dict(zip(q8, q8code))"
   ]
  },
  {
   "cell_type": "code",
   "execution_count": 29,
   "metadata": {
    "colab": {},
    "colab_type": "code",
    "id": "4nP5NIkHwi6n",
    "scrolled": true
   },
   "outputs": [],
   "source": [
    "# encode 'Q11' (ML expense)\n",
    "q11 = df2['Q11'].unique()\n",
    "q11code = np.array([0,5,4,2,3,1])\n",
    "q11_dict = dict(zip(q11, q11code))"
   ]
  },
  {
   "cell_type": "code",
   "execution_count": 30,
   "metadata": {
    "colab": {},
    "colab_type": "code",
    "id": "94I9kUZiwi6v"
   },
   "outputs": [],
   "source": [
    "# encode 'Q15' (years of coding experience)\n",
    "q15 = df2['Q15'].unique()\n",
    "q15code = np.array([2,0,1,6,3,4,5])\n",
    "q15_dict = dict(zip(q15, q15code))"
   ]
  },
  {
   "cell_type": "code",
   "execution_count": 31,
   "metadata": {
    "colab": {},
    "colab_type": "code",
    "id": "GwsxAlWdwi66"
   },
   "outputs": [],
   "source": [
    "# encode 'Q22' (use TPU)\n",
    "q22 = df2['Q22'].unique()\n",
    "q22code=[0,1,3,2,4] \n",
    "q22_dict=dict(zip(q22,q22code))"
   ]
  },
  {
   "cell_type": "code",
   "execution_count": 32,
   "metadata": {
    "colab": {},
    "colab_type": "code",
    "id": "SKEpKTpUwi7B"
   },
   "outputs": [],
   "source": [
    "# encode 'Q23' (years of using ML)\n",
    "q23 = df2['Q23'].unique()\n",
    "q23code = np.array([1,0,2,6,3,4,5,7])\n",
    "q23_dict = dict(zip(q23, q23code))"
   ]
  },
  {
   "cell_type": "code",
   "execution_count": 33,
   "metadata": {
    "colab": {},
    "colab_type": "code",
    "id": "oH2CG9_2wi7J"
   },
   "outputs": [],
   "source": [
    "# encode Q1,4,6,7,8,11,15,23\n",
    "encode = {'Q1':q1_dict, \n",
    "           'Q4':q4_dict,\n",
    "           'Q6':q6_dict,\n",
    "           'Q7':q7_dict,\n",
    "           'Q8':q8_dict,\n",
    "           'Q11':q11_dict,\n",
    "           'Q15':q15_dict,\n",
    "           'Q22':q22_dict,\n",
    "           'Q23':q23_dict}\n",
    "df2 = df2.replace(encode)"
   ]
  },
  {
   "cell_type": "markdown",
   "metadata": {
    "colab_type": "text",
    "id": "3xlK9ZBKwi7Q"
   },
   "source": [
    "##### 4.2.2 One hot encoding\n",
    "One hot encoding is another way to encode categorical features. We will create dummy variables.\n",
    "- 0: a value is False for a sample\n",
    "- 1: a value is True for a sample\n",
    "- Disadvantage of this method is that the number of features increases a lot.\n",
    "- Drop one of each of the dummy variables because its value is implied by the other dummy variable columns."
   ]
  },
  {
   "cell_type": "code",
   "execution_count": 34,
   "metadata": {
    "colab": {},
    "colab_type": "code",
    "id": "SMjftxiIwi7U"
   },
   "outputs": [],
   "source": [
    "# one hot encoding of 'Q2'(gender)\n",
    "gender = pd.get_dummies(df2['Q2'], prefix='Q2')\n",
    "df3 = pd.concat([df2.drop(['Q2'],axis=1),gender],axis=1)\n",
    "\n",
    "# if Female=0 and Male=0 and Prefer to self-describe=0, then Prefer not to say=1\n",
    "df3 = df3.drop(['Q2_Prefer not to say'], axis=1)"
   ]
  },
  {
   "cell_type": "markdown",
   "metadata": {
    "colab_type": "text",
    "id": "r1k7ds2kwi7f"
   },
   "source": [
    "- For 'Q3'(country and region), there are too many unique values. If we use one hot encoding directly, size of the dataframe and processing time will increase a lot.\n",
    "- To avoid that, we classify 'Q3' to a smaller set of category in terms of continent, then we encode 'Q3' with one hot encoding."
   ]
  },
  {
   "cell_type": "code",
   "execution_count": 35,
   "metadata": {
    "colab": {},
    "colab_type": "code",
    "id": "6q_Y0jLRwi7g"
   },
   "outputs": [],
   "source": [
    "#Q3(country and region)\n",
    "Asia = ['India','Pakistan', 'Japan','South Korea','Indonesia','Hong Kong (S.A.R.)','Turkey','Israel',\n",
    "        'Taiwan', 'Egypt','Thailand','Viet Nam', 'Singapore','Bangladesh','Iran, Islamic Republic of...',\n",
    "        'China','Philippines', 'Malaysia','Republic of Korea','Saudi Arabia']\n",
    "Europe = ['France','Netherlands','Germany', 'Ireland', 'Russia', 'Greece', 'Ukraine','Belarus',\n",
    "          'United Kingdom of Great Britain and Northern Ireland', 'Sweden','Portugal', 'Poland',\n",
    "          'Italy', 'Czech Republic', 'Spain','Hungary','Norway','Switzerland','Romania','Austria',\n",
    "          'Denmark']\n",
    "Africa = ['Nigeria','South Africa','Morocco', 'Kenya','Belgium','Algeria','Tunisia']\n",
    "NA =['United States of America','Mexico','Canada',]\n",
    "SA =['Brazil','Chile', 'Argentina','Colombia','Peru',]\n",
    "Oceania=['Australia','New Zealand',]\n",
    "Other=['Other']\n",
    "country_dict = {'Asia':Asia, 'Europe':Europe, 'Africa':Africa,\n",
    "               'NA':NA, 'SA':SA, 'Oceania':Oceania, 'OtherRegion':Other}\n",
    "\n",
    "# create a dictionary with mapping from country/region to continent\n",
    "new_cd = {}\n",
    "for key in country_dict.keys():\n",
    "    a = country_dict[key]\n",
    "    for v in a:\n",
    "        new_cd[v]=key\n",
    "\n",
    "df3 = df3.replace({'Q3':new_cd}) \n",
    "region = pd.get_dummies(df3['Q3'], prefix='Q3')\n",
    "df3 = pd.concat([df3.drop(['Q3'],axis=1), region],axis=1)\n",
    "\n",
    "df3 = df3.drop(['Q3_OtherRegion'], axis=1)"
   ]
  },
  {
   "cell_type": "code",
   "execution_count": 36,
   "metadata": {
    "colab": {},
    "colab_type": "code",
    "id": "QE7lbXkYwi7m"
   },
   "outputs": [],
   "source": [
    "#'Q5' (position)\n",
    "position = pd.get_dummies(df3['Q5'], prefix='Q5')\n",
    "df3 = pd.concat([df3.drop(['Q5'],axis=1), position] ,axis=1)\n",
    "\n",
    "df3 = df3.drop(['Q5_Other'],axis=1)"
   ]
  },
  {
   "cell_type": "code",
   "execution_count": 37,
   "metadata": {
    "colab": {},
    "colab_type": "code",
    "id": "PFyTrrQbwi7p"
   },
   "outputs": [],
   "source": [
    "# Q19 (tool)\n",
    "tool = pd.get_dummies(df3['Q19'], prefix='Q19')\n",
    "df3 = pd.concat([df3.drop(['Q19'],axis=1), tool.drop(['Q19_Other'],axis=1)] ,axis=1)"
   ]
  },
  {
   "cell_type": "code",
   "execution_count": 38,
   "metadata": {
    "colab": {},
    "colab_type": "code",
    "id": "ufq0GigZwi7w"
   },
   "outputs": [],
   "source": [
    "# Q14\n",
    "primarytool = pd.get_dummies(df3['Q14'], prefix='Q14')\n",
    "key_str = 'Q14'\n",
    "k = df3.columns[df3.columns.str.contains(key_str)==True]\n",
    "df3 = pd.concat([df3.drop(k,axis=1), primarytool] ,axis=1)"
   ]
  },
  {
   "cell_type": "code",
   "execution_count": 39,
   "metadata": {
    "colab": {
     "base_uri": "https://localhost:8080/",
     "height": 847
    },
    "colab_type": "code",
    "id": "2-JuUF96wi7y",
    "outputId": "20ade29c-a289-45ca-c6b6-64e65e69889d"
   },
   "outputs": [
    {
     "data": {
      "text/plain": [
       "<matplotlib.axes._subplots.AxesSubplot at 0x1d7bd4b0ac8>"
      ]
     },
     "execution_count": 39,
     "metadata": {},
     "output_type": "execute_result"
    },
    {
     "data": {
      "image/png": "[encoded data removed]",
      "text/plain": [
       "<Figure size 864x576 with 1 Axes>"
      ]
     },
     "metadata": {
      "needs_background": "light"
     },
     "output_type": "display_data"
    }
   ],
   "source": [
    "fig, ax = plt.subplots(figsize=(12,8))\n",
    "sns.heatmap(df3.isnull(), cmap='coolwarm', yticklabels=False, cbar=False, ax=ax)"
   ]
  },
  {
   "cell_type": "markdown",
   "metadata": {
    "colab_type": "text",
    "id": "hsuGicCXwi71"
   },
   "source": [
    "Now all single response questions are cleaned. Data cleaning completes."
   ]
  },
  {
   "cell_type": "code",
   "execution_count": 40,
   "metadata": {
    "colab": {},
    "colab_type": "code",
    "id": "T9CqNAfGwi72"
   },
   "outputs": [],
   "source": [
    "df4 = df3\n",
    "for mq in qlist:\n",
    "    mqlist = df1.columns[df1.columns.str.contains(mq)]\n",
    "    df4 = pd.concat([df4, df1[mqlist]] ,axis=1)"
   ]
  },
  {
   "cell_type": "markdown",
   "metadata": {
    "colab_type": "text",
    "id": "1te2_K3Twi77"
   },
   "source": [
    "Drop the original input of salary 'Q10'."
   ]
  },
  {
   "cell_type": "code",
   "execution_count": 41,
   "metadata": {
    "colab": {},
    "colab_type": "code",
    "id": "oIWF3_q3wi78"
   },
   "outputs": [],
   "source": [
    "df4=df4.drop(['Q10'], axis=1)"
   ]
  },
  {
   "cell_type": "markdown",
   "metadata": {
    "colab_type": "text",
    "id": "vPuTK2j9wi8B"
   },
   "source": [
    "### 5. Exploratory data analysis"
   ]
  },
  {
   "cell_type": "markdown",
   "metadata": {
    "colab_type": "text",
    "id": "oVLTu-Ghwi8B"
   },
   "source": [
    "Heatmap is used to visualize the feature importance. The first 19 features that have high correlation values with respect to target 'Q10_Encoded' are selected and plotted. The features are considered to be most related to the target, and they are more likely to play a role in logistic regression. <br>\n",
    "Absolute values are considered. +1 indicates strong positive correlation while -1 indicates strong negative correlation."
   ]
  },
  {
   "cell_type": "code",
   "execution_count": 42,
   "metadata": {
    "colab": {
     "base_uri": "https://localhost:8080/",
     "height": 669
    },
    "colab_type": "code",
    "id": "q5z5ejOlwi8C",
    "outputId": "3402cf33-99dc-4e11-84d2-8bbbe1d1a880"
   },
   "outputs": [
    {
     "data": {
      "text/plain": [
       "Index(['Q10_Encoded', 'Q3_NA', 'Q15', 'Q23', 'Q34_Part_1', 'Q1', 'Q9_Part_3',\n",
       "       'Q3_Asia', 'Q11', 'Q9_count', 'Q8', 'Q31_Part_11', 'Q7', 'Q29_count',\n",
       "       'Q6', 'Q18_Part_3', 'Q12_Part_6', 'Q25_Part_7', 'Q4', 'Q18_count'],\n",
       "      dtype='object')"
      ]
     },
     "execution_count": 42,
     "metadata": {},
     "output_type": "execute_result"
    },
    {
     "data": {
      "image/png": "[encoded data removed]",
      "text/plain": [
       "<Figure size 1080x648 with 2 Axes>"
      ]
     },
     "metadata": {
      "needs_background": "light"
     },
     "output_type": "display_data"
    }
   ],
   "source": [
    "corr = df4.corr()\n",
    "abscorr=corr.abs()\n",
    "features = abscorr.nlargest(20, 'Q10_Encoded').index\n",
    "df5 = df4[features]\n",
    "\n",
    "plt.figure(figsize=(15,9))\n",
    "sns.heatmap(df5.corr(),annot=True)\n",
    "features"
   ]
  },
  {
   "cell_type": "markdown",
   "metadata": {
    "colab_type": "text",
    "id": "vDrNsVIEwi8F"
   },
   "source": [
    "From the heatmap above, we can tell that 'Q3_NA'(if the respondent resides in North America now), 'Q15'(years of code experience), and 'Q23'(years of using machine learning method) are the three features that correlate with salary most. Then let's see how the three features affect salary."
   ]
  },
  {
   "cell_type": "code",
   "execution_count": 43,
   "metadata": {
    "colab": {
     "base_uri": "https://localhost:8080/",
     "height": 402
    },
    "colab_type": "code",
    "id": "JylXZ6nUwi8G",
    "outputId": "1b7c5219-15d2-4c8c-b83b-cfe352d3b1c3"
   },
   "outputs": [
    {
     "data": {
      "text/plain": [
       "[Text(0, 0.5, 'percent'),\n",
       " Text(0.5, 0, 'Salary'),\n",
       " Text(0.5, 1.0, 'If resides in North America')]"
      ]
     },
     "execution_count": 43,
     "metadata": {},
     "output_type": "execute_result"
    },
    {
     "data": {
      "image/png": "[encoded data removed]",
      "text/plain": [
       "<Figure size 1080x360 with 2 Axes>"
      ]
     },
     "metadata": {
      "needs_background": "light"
     },
     "output_type": "display_data"
    }
   ],
   "source": [
    "# 'Q3_NA': if the respondent resides in North America\n",
    "fig1, (ax1, ax2) = plt.subplots(1,2, figsize=(15,5))\n",
    "\n",
    "# Plot the number of occurances for each salary bucket\n",
    "q3_1 = sns.countplot(x='Q10_Encoded', hue = 'Q3_NA', data=df4, ax=ax1)\n",
    "q3_1.set(xlabel='Salary', title='If resides in North America')\n",
    "\n",
    "# Compute the mean for each salary bucket,\n",
    "# Mean is the percentage of how many respondents say yes for 'Q3_NA' for each salary bucket\n",
    "q3_percent = df4[['Q3_NA','Q10_Encoded']].groupby(['Q10_Encoded'], as_index=False).mean()\n",
    "\n",
    "# Plot the mean values\n",
    "q3_2 = sns.barplot(x='Q10_Encoded',y='Q3_NA', data=q3_percent, ax=ax2)\n",
    "q3_2.set(xlabel='Salary', ylabel='percent', title='If resides in North America')"
   ]
  },
  {
   "cell_type": "code",
   "execution_count": 44,
   "metadata": {},
   "outputs": [],
   "source": [
    "q3_na = df4['Q3_NA'].unique()\n",
    "q3_na_encode = np.array(['False', 'True'])\n",
    "\n",
    "q3_na_dict = dict(zip(q3_na, q3_na_encode))\n",
    "\n",
    "\n",
    "#plot_df = df4[['Q3_NA','Q10_Encoded']]\n",
    "q3_na_dict_encoder = {'Q3_NA':q3_na_dict}\n",
    "plot_df = df4.replace(q3_na_dict_encoder)\n"
   ]
  },
  {
   "cell_type": "code",
   "execution_count": 45,
   "metadata": {},
   "outputs": [
    {
     "data": {
      "text/plain": [
       "[Text(0, 0.5, 'percentage'),\n",
       " Text(0.5, 0, 'Salary'),\n",
       " Text(0.5, 1.0, 'If resides in North America')]"
      ]
     },
     "execution_count": 45,
     "metadata": {},
     "output_type": "execute_result"
    },
    {
     "data": {
      "image/png": "[encoded data removed]",
      "text/plain": [
       "<Figure size 1080x360 with 2 Axes>"
      ]
     },
     "metadata": {
      "needs_background": "light"
     },
     "output_type": "display_data"
    }
   ],
   "source": [
    "fig1, (ax1, ax2) = plt.subplots(1,2, figsize=(15,5))\n",
    "\n",
    "# Plot the number of occurances for each salary bucket\n",
    "q3_1 = sns.countplot(x='Q10_Encoded', hue = 'Q3_NA', data=plot_df, ax=ax1)\n",
    "q3_1.set(xlabel='Salary', title='If resides in North America')\n",
    "\n",
    "# Compute the mean for each salary bucket,\n",
    "# Mean is the percentage of how many respondents say yes for 'Q3_NA' for each salary bucket\n",
    "q3_percent = df4[['Q3_NA','Q10_Encoded']].groupby(['Q10_Encoded'], as_index=False).mean()*100\n",
    "\n",
    "# Plot the mean values\n",
    "q3_2 = sns.barplot(x='Q10_Encoded',y='Q3_NA', data=q3_percent, ax=ax2)\n",
    "q3_2.set(xlabel='Salary', ylabel='percentage', title='If resides in North America')"
   ]
  },
  {
   "cell_type": "markdown",
   "metadata": {
    "colab_type": "text",
    "id": "fa5YBF72wi8K"
   },
   "source": [
    "From the plots above, we see that the respondents with high salary have a higher probability of residing in North America than the respondents with low salary. For salary code 0 to 3, the percentages of residing in North America are all less than 0.1. For salary code 10 to 14, which are the 5 highest salary buckets, the percentages are all greater than 0.5."
   ]
  },
  {
   "cell_type": "code",
   "execution_count": 46,
   "metadata": {
    "colab": {
     "base_uri": "https://localhost:8080/",
     "height": 367
    },
    "colab_type": "code",
    "id": "LMS5UKBywi8K",
    "outputId": "20106b21-d12e-4366-9cd5-588ebea442e5"
   },
   "outputs": [
    {
     "name": "stdout",
     "output_type": "stream",
     "text": [
      "Year code: {'1-2 years': 2, 'I have never written code': 0, '< 1 years': 1, '20+ years': 6, '3-5 years': 3, '5-10 years': 4, '10-20 years': 5}\n"
     ]
    },
    {
     "data": {
      "image/png": "[encoded data removed]",
      "text/plain": [
       "<Figure size 1080x360 with 1 Axes>"
      ]
     },
     "metadata": {
      "needs_background": "light"
     },
     "output_type": "display_data"
    }
   ],
   "source": [
    "# 'Q15': how many years of code experience respondents have\n",
    "fig2, ax1 = plt.subplots(1,1, figsize=(15,5))\n",
    "\n",
    "# Plot years of code experience with respect to salary bucket\n",
    "q15_plot = sns.violinplot(x='Q10_Encoded', y='Q15', data=df4, ax=ax1)\n",
    "q15_plot.set(xlabel='Salary', ylabel='year', title='Years of coding experience')\n",
    "\n",
    "print ('Year code:', q15_dict)"
   ]
  },
  {
   "cell_type": "markdown",
   "metadata": {
    "colab_type": "text",
    "id": "GO7HkBEMwi8N"
   },
   "source": [
    "The violin plot above indicates that respondents with very high salary tend to have more than 10 years of coding experience. Most respondents with low salary have less than 5 years of coding experience since their violins have wider parts in the middle or below."
   ]
  },
  {
   "cell_type": "code",
   "execution_count": 47,
   "metadata": {
    "colab": {
     "base_uri": "https://localhost:8080/",
     "height": 488
    },
    "colab_type": "code",
    "id": "uDa7_GUOwi8N",
    "outputId": "f1613710-76d5-4b78-eb11-8b482efca82f"
   },
   "outputs": [
    {
     "data": {
      "text/plain": [
       "{'1-2 years': 1,\n",
       " '< 1 years': 0,\n",
       " '2-3 years': 2,\n",
       " '10-15 years': 6,\n",
       " '3-4 years': 3,\n",
       " '4-5 years': 4,\n",
       " '5-10 years': 5,\n",
       " '20+ years': 7}"
      ]
     },
     "execution_count": 47,
     "metadata": {},
     "output_type": "execute_result"
    },
    {
     "data": {
      "image/png": "[encoded data removed]",
      "text/plain": [
       "<Figure size 1080x360 with 1 Axes>"
      ]
     },
     "metadata": {
      "needs_background": "light"
     },
     "output_type": "display_data"
    }
   ],
   "source": [
    "# 'Q23': how many years of using machine learning respondents have\n",
    "fig3, ax1 = plt.subplots(1,1, figsize=(15,5))\n",
    "\n",
    "# Plot years of using machine learning with respect to salary bucket\n",
    "q23_plot = sns.violinplot(x='Q10_Encoded', y='Q23', data=df4, ax=ax1)\n",
    "q23_plot.set(xlabel='Salary', ylabel='year', title='Years of using machine learning')\n",
    "q23_dict"
   ]
  },
  {
   "cell_type": "markdown",
   "metadata": {
    "colab_type": "text",
    "id": "MFrs4Y0Swi8Q"
   },
   "source": [
    "The violin plot of 'Q23' shows a similar trend with the violin plot of 'Q15'. Respondents with very high salary (12, 13, 14) are likely to have more than 5 years of using machine learning. Most respondents with low salary have less than 2 years of using machine learning. 'Q15' and 'Q23' tell the same thing that if a respondent has long-time experience of data science, such as over 5 years, the respondent has a high probability to be paid with high salary."
   ]
  },
  {
   "cell_type": "markdown",
   "metadata": {
    "colab_type": "text",
    "id": "x00BInX5wi8R"
   },
   "source": [
    "### 6. Feature selection\n",
    "There are 83 features (excluding 2 target columns from total 85 columns) existing in the cleaned data. Many of them may not be quite relevant to the target, and considering all existing features slows modelling. Therefore, we need to select the features with high relevance to the target and use them to build a model.Good choice of features helps a model learn fast and increases accuracy of prediction.<br>\n",
    "To reduce the number of features, regularized regression with L1 regularization technique is applied. A pelnaty term of magnitude of weight coefficients is added to cost function, so that the weight coefficients are minimized as well. Then we use the features with non-zero coefficients to do logistic regression. <br>"
   ]
  },
  {
   "cell_type": "markdown",
   "metadata": {
    "colab_type": "text",
    "id": "jsX72W8Ewi8S"
   },
   "source": [
    "$ h_\\theta (x^{(i)}) = \\sum_{j=1}(x^{(i)}_j*\\theta_j) $"
   ]
  },
  {
   "cell_type": "markdown",
   "metadata": {
    "colab_type": "text",
    "id": "gspq2hYYwi8T"
   },
   "source": [
    "$J(\\theta) = \\frac{1}{2m}[\\sum_{i=1}^m(h_\\theta (x^{(i)}) - y^{(i)})^2 + \\lambda\\sum_{j=1}^n|\\theta_j|]$"
   ]
  },
  {
   "cell_type": "code",
   "execution_count": 48,
   "metadata": {
    "colab": {},
    "colab_type": "code",
    "id": "x6P9oBK2wi8W"
   },
   "outputs": [],
   "source": [
    "scaler = StandardScaler()"
   ]
  },
  {
   "cell_type": "code",
   "execution_count": 49,
   "metadata": {
    "colab": {},
    "colab_type": "code",
    "id": "w-gPnH0fwi8Y"
   },
   "outputs": [],
   "source": [
    "X = df4.drop(['Q10_Encoded', 'Q10_buckets'], axis=1)\n",
    "y = df4['Q10_Encoded']"
   ]
  },
  {
   "cell_type": "code",
   "execution_count": 50,
   "metadata": {
    "colab": {},
    "colab_type": "code",
    "id": "WsiP2R-okWWM"
   },
   "outputs": [],
   "source": [
    "X_scaled = scaler.fit_transform(X)"
   ]
  },
  {
   "cell_type": "markdown",
   "metadata": {
    "colab_type": "text",
    "id": "4Q4-Aap-wi8f"
   },
   "source": [
    "Now we can apply linear regression to select features. Sklearn has a 'Lasso' function to do the l1 regularized regression."
   ]
  },
  {
   "cell_type": "code",
   "execution_count": 51,
   "metadata": {
    "colab": {},
    "colab_type": "code",
    "id": "NHVpnfPSwi8g"
   },
   "outputs": [],
   "source": [
    "def feature_select(Xtrain, Xtest, ytrain, ytest, alpha=0.1):\n",
    "  lasso = Lasso(alpha, max_iter=10e4)     #Use lasso\n",
    "  lasso.fit(Xtrain, ytrain)\n",
    "  train_score = lasso.score(Xtrain,ytrain)\n",
    "  test_score = lasso.score(Xtest,ytest)\n",
    "  coeff = np.sum(lasso.coef_!=0)\n",
    "    \n",
    "  lr = LinearRegression()    #Linear regression without l1 regularization\n",
    "  lr.fit(Xtrain, ytrain)\n",
    "  lr_train_score = lr.score(Xtrain, ytrain)\n",
    "  lr_test_score = lr.score(Xtest, ytest)\n",
    "    \n",
    "  gap = abs(train_score-lr_train_score)/lr_train_score   #print results if the two scores are close enough\n",
    "    \n",
    "  if gap < 0.01:\n",
    "    print ('alpha=', alpha)\n",
    "    print ('lasso train:', train_score)\n",
    "    print ('lasso test:', test_score)\n",
    "    print ('number of features selected', coeff)\n",
    "    print ('LR train:', lr_train_score)\n",
    "    print ('LR test:', lr_test_score)\n",
    "    \n",
    "  return lasso.coef_"
   ]
  },
  {
   "cell_type": "markdown",
   "metadata": {
    "colab_type": "text",
    "id": "d_rReJN0wi8i"
   },
   "source": [
    "R^2 score is used to evaluate fitting performance of regularized regression. We can compare scores of the original training set and the training set with selected features which are the features with non-zero coefficients. If they are close, then we can build a model with the selected features. We also do the same thing for test set. "
   ]
  },
  {
   "cell_type": "code",
   "execution_count": 52,
   "metadata": {
    "colab": {
     "base_uri": "https://localhost:8080/",
     "height": 500
    },
    "colab_type": "code",
    "id": "mLOU-acZwi8j",
    "outputId": "86b1aa23-8db4-4d12-e2d5-8266ed38ba94"
   },
   "outputs": [
    {
     "name": "stdout",
     "output_type": "stream",
     "text": [
      "\n",
      "\n",
      "\n",
      "\n",
      "alpha= 0.01\n",
      "lasso train: 0.6102368561345346\n",
      "lasso test: 0.5737629219832729\n",
      "number of features selected 71\n",
      "LR train: 0.6108366002159801\n",
      "LR test: 0.5742648244576881\n",
      "\n",
      "\n",
      "alpha= 0.001\n",
      "lasso train: 0.6108194691495067\n",
      "lasso test: 0.574302016633002\n",
      "number of features selected 81\n",
      "LR train: 0.6108366002159801\n",
      "LR test: 0.5742648244576881\n",
      "\n",
      "\n",
      "alpha= 0.0001\n",
      "lasso train: 0.610836413097726\n",
      "lasso test: 0.5742658985736914\n",
      "number of features selected 82\n",
      "LR train: 0.6108366002159801\n",
      "LR test: 0.5742648244576881\n",
      "\n",
      "\n"
     ]
    }
   ],
   "source": [
    "Xtrain, Xtest, ytrain, ytest = train_test_split(X_scaled, y, test_size=0.3)  #split original set to training set and test set\n",
    "for i in [1,0.1,0.01,0.001,0.0001]:\n",
    "    co=feature_select(Xtrain, Xtest, ytrain, ytest, i)\n",
    "    print ('\\n')"
   ]
  },
  {
   "cell_type": "markdown",
   "metadata": {
    "colab_type": "text",
    "id": "KJyxR3nuwi8m"
   },
   "source": [
    "Scores of regularized regression and normal linear regulation are close at alpha=0.01, which means a regression model with selected features would perform as well as a model with all features. Though lasso score is higher with smaller alpha, the number of selected features increases. <br>\n",
    "Use alpha=0.01 to select features."
   ]
  },
  {
   "cell_type": "code",
   "execution_count": 53,
   "metadata": {
    "colab": {
     "base_uri": "https://localhost:8080/",
     "height": 120
    },
    "colab_type": "code",
    "id": "0U0J5hF9wi8n",
    "outputId": "d0d51e0f-aae4-469d-81f7-cf409ce0951f"
   },
   "outputs": [
    {
     "name": "stdout",
     "output_type": "stream",
     "text": [
      "alpha= 0.01\n",
      "lasso train: 0.6102368561345346\n",
      "lasso test: 0.5737629219832729\n",
      "number of features selected 71\n",
      "LR train: 0.6108366002159801\n",
      "LR test: 0.5742648244576881\n"
     ]
    }
   ],
   "source": [
    "colist=feature_select(Xtrain, Xtest, ytrain, ytest, 0.01)"
   ]
  },
  {
   "cell_type": "code",
   "execution_count": 54,
   "metadata": {
    "colab": {},
    "colab_type": "code",
    "id": "tl7R2fUswi8p"
   },
   "outputs": [],
   "source": [
    "df5=df4\n",
    "droplist=[]\n",
    "for i in range(len(colist)):\n",
    "    if colist[i]<0.00001:\n",
    "      droplist.append(i)\n",
    "      df5 = df5.drop(X.columns[i], axis=1)\n"
   ]
  },
  {
   "cell_type": "code",
   "execution_count": 55,
   "metadata": {},
   "outputs": [
    {
     "data": {
      "text/plain": [
       "array([ 0.00000000e+00,  5.03700941e-01, -0.00000000e+00,  2.57799275e-01,\n",
       "        4.56311815e-02,  2.36509560e-01,  5.08600547e-01,  3.12998614e-01,\n",
       "       -2.79444002e-02,  5.51755640e-01, -8.65202987e-02,  7.96100062e-02,\n",
       "        4.53581827e-02, -4.59258720e-02, -1.38328099e-01,  2.68699145e-01,\n",
       "        1.55562919e+00,  4.40941212e-01, -2.23442219e-01, -5.08704017e-02,\n",
       "       -0.00000000e+00, -1.73412414e-01, -5.43043131e-03, -9.80946367e-02,\n",
       "        9.58912616e-02, -1.94427189e-01, -0.00000000e+00, -3.83846975e-02,\n",
       "        0.00000000e+00, -0.00000000e+00, -5.23582126e-02, -5.13056779e-02,\n",
       "        2.26241983e-02, -7.04063470e-02,  9.51739576e-03,  5.38336273e-03,\n",
       "       -2.63184556e-02, -1.02945712e-04,  2.08743478e-02, -2.07430527e-02,\n",
       "       -0.00000000e+00,  6.04366120e-02,  1.17749156e-01, -3.04681183e-02,\n",
       "        6.49670273e-03,  1.44576390e-02,  3.62086691e-01,  8.34899862e-03,\n",
       "       -6.17611894e-02, -1.71465377e-01,  4.72450824e-02,  3.04992168e-02,\n",
       "        5.60091313e-02, -8.48411538e-02,  6.26393547e-02, -1.06207222e-01,\n",
       "       -1.02116432e-01,  0.00000000e+00,  2.16519049e-01,  0.00000000e+00,\n",
       "       -1.59979692e-02, -9.56412924e-02, -1.27683016e-02, -1.64352644e-02,\n",
       "        9.17045965e-03,  1.42620298e-01,  2.99583177e-03, -0.00000000e+00,\n",
       "        0.00000000e+00,  2.12161172e-01,  4.27691420e-02,  7.76345998e-03,\n",
       "        0.00000000e+00,  1.90326700e-01, -1.69187706e-01, -3.32076846e-01,\n",
       "       -1.61725747e-02,  7.18627206e-02, -5.84325923e-02,  4.49759088e-02,\n",
       "        9.41032644e-02, -5.79157056e-01, -1.57428189e-01])"
      ]
     },
     "execution_count": 55,
     "metadata": {},
     "output_type": "execute_result"
    }
   ],
   "source": [
    "colist"
   ]
  },
  {
   "cell_type": "markdown",
   "metadata": {
    "colab_type": "text",
    "id": "HL2lMKgYwi8t"
   },
   "source": [
    "### 7. Model implementation"
   ]
  },
  {
   "cell_type": "code",
   "execution_count": 56,
   "metadata": {
    "colab": {},
    "colab_type": "code",
    "id": "c62K_OGRwi8t"
   },
   "outputs": [],
   "source": [
    "import warnings\n",
    "warnings.filterwarnings(\"ignore\")"
   ]
  },
  {
   "cell_type": "code",
   "execution_count": 57,
   "metadata": {
    "colab": {},
    "colab_type": "code",
    "id": "422dII_wwi8w"
   },
   "outputs": [],
   "source": [
    "X = df5.drop(['Q10_Encoded', 'Q10_buckets'], axis=1)\n",
    "y = df5['Q10_Encoded']"
   ]
  },
  {
   "cell_type": "code",
   "execution_count": 59,
   "metadata": {},
   "outputs": [
    {
     "data": {
      "text/html": [
       "<div>\n",
       "<style scoped>\n",
       "    .dataframe tbody tr th:only-of-type {\n",
       "        vertical-align: middle;\n",
       "    }\n",
       "\n",
       "    .dataframe tbody tr th {\n",
       "        vertical-align: top;\n",
       "    }\n",
       "\n",
       "    .dataframe thead th {\n",
       "        text-align: right;\n",
       "    }\n",
       "</style>\n",
       "<table border=\"1\" class=\"dataframe\">\n",
       "  <thead>\n",
       "    <tr style=\"text-align: right;\">\n",
       "      <th></th>\n",
       "      <th>Salary_0</th>\n",
       "      <th>Salary_1</th>\n",
       "      <th>Salary_2</th>\n",
       "      <th>Salary_3</th>\n",
       "      <th>Salary_4</th>\n",
       "      <th>Salary_5</th>\n",
       "      <th>Salary_6</th>\n",
       "      <th>Salary_7</th>\n",
       "      <th>Salary_8</th>\n",
       "      <th>Salary_9</th>\n",
       "      <th>Salary_10</th>\n",
       "      <th>Salary_11</th>\n",
       "      <th>Salary_12</th>\n",
       "      <th>Salary_13</th>\n",
       "      <th>Salary_14</th>\n",
       "    </tr>\n",
       "  </thead>\n",
       "  <tbody>\n",
       "    <tr>\n",
       "      <th>0</th>\n",
       "      <td>0</td>\n",
       "      <td>0</td>\n",
       "      <td>0</td>\n",
       "      <td>1</td>\n",
       "      <td>0</td>\n",
       "      <td>0</td>\n",
       "      <td>0</td>\n",
       "      <td>0</td>\n",
       "      <td>0</td>\n",
       "      <td>0</td>\n",
       "      <td>0</td>\n",
       "      <td>0</td>\n",
       "      <td>0</td>\n",
       "      <td>0</td>\n",
       "      <td>0</td>\n",
       "    </tr>\n",
       "    <tr>\n",
       "      <th>1</th>\n",
       "      <td>1</td>\n",
       "      <td>0</td>\n",
       "      <td>0</td>\n",
       "      <td>0</td>\n",
       "      <td>0</td>\n",
       "      <td>0</td>\n",
       "      <td>0</td>\n",
       "      <td>0</td>\n",
       "      <td>0</td>\n",
       "      <td>0</td>\n",
       "      <td>0</td>\n",
       "      <td>0</td>\n",
       "      <td>0</td>\n",
       "      <td>0</td>\n",
       "      <td>0</td>\n",
       "    </tr>\n",
       "    <tr>\n",
       "      <th>2</th>\n",
       "      <td>0</td>\n",
       "      <td>0</td>\n",
       "      <td>0</td>\n",
       "      <td>0</td>\n",
       "      <td>0</td>\n",
       "      <td>0</td>\n",
       "      <td>0</td>\n",
       "      <td>0</td>\n",
       "      <td>0</td>\n",
       "      <td>0</td>\n",
       "      <td>0</td>\n",
       "      <td>0</td>\n",
       "      <td>0</td>\n",
       "      <td>0</td>\n",
       "      <td>1</td>\n",
       "    </tr>\n",
       "    <tr>\n",
       "      <th>3</th>\n",
       "      <td>1</td>\n",
       "      <td>0</td>\n",
       "      <td>0</td>\n",
       "      <td>0</td>\n",
       "      <td>0</td>\n",
       "      <td>0</td>\n",
       "      <td>0</td>\n",
       "      <td>0</td>\n",
       "      <td>0</td>\n",
       "      <td>0</td>\n",
       "      <td>0</td>\n",
       "      <td>0</td>\n",
       "      <td>0</td>\n",
       "      <td>0</td>\n",
       "      <td>0</td>\n",
       "    </tr>\n",
       "    <tr>\n",
       "      <th>4</th>\n",
       "      <td>0</td>\n",
       "      <td>0</td>\n",
       "      <td>0</td>\n",
       "      <td>0</td>\n",
       "      <td>0</td>\n",
       "      <td>0</td>\n",
       "      <td>1</td>\n",
       "      <td>0</td>\n",
       "      <td>0</td>\n",
       "      <td>0</td>\n",
       "      <td>0</td>\n",
       "      <td>0</td>\n",
       "      <td>0</td>\n",
       "      <td>0</td>\n",
       "      <td>0</td>\n",
       "    </tr>\n",
       "  </tbody>\n",
       "</table>\n",
       "</div>"
      ],
      "text/plain": [
       "   Salary_0  Salary_1  Salary_2  Salary_3  Salary_4  Salary_5  Salary_6  \\\n",
       "0         0         0         0         1         0         0         0   \n",
       "1         1         0         0         0         0         0         0   \n",
       "2         0         0         0         0         0         0         0   \n",
       "3         1         0         0         0         0         0         0   \n",
       "4         0         0         0         0         0         0         1   \n",
       "\n",
       "   Salary_7  Salary_8  Salary_9  Salary_10  Salary_11  Salary_12  Salary_13  \\\n",
       "0         0         0         0          0          0          0          0   \n",
       "1         0         0         0          0          0          0          0   \n",
       "2         0         0         0          0          0          0          0   \n",
       "3         0         0         0          0          0          0          0   \n",
       "4         0         0         0          0          0          0          0   \n",
       "\n",
       "   Salary_14  \n",
       "0          0  \n",
       "1          0  \n",
       "2          1  \n",
       "3          0  \n",
       "4          0  "
      ]
     },
     "execution_count": 59,
     "metadata": {},
     "output_type": "execute_result"
    }
   ],
   "source": [
    "salary_y = pd.get_dummies(y, prefix='Salary')\n",
    "#y = pd.concat([y.drop([''],axis=1),gender],axis=1)\n",
    "salary_y.head()"
   ]
  },
  {
   "cell_type": "markdown",
   "metadata": {},
   "source": [
    "### -----------------------------START------------------------------"
   ]
  },
  {
   "cell_type": "markdown",
   "metadata": {},
   "source": [
    "#### 7.1 Neural Network\n",
    "Try to build a simple neural network and understand how neural network works. "
   ]
  },
  {
   "cell_type": "code",
   "execution_count": 103,
   "metadata": {},
   "outputs": [
    {
     "name": "stderr",
     "output_type": "stream",
     "text": [
      "Using TensorFlow backend.\n"
     ]
    }
   ],
   "source": [
    "from tensorflow import keras\n",
    "from tensorflow.keras import regularizers"
   ]
  },
  {
   "cell_type": "code",
   "execution_count": 65,
   "metadata": {},
   "outputs": [],
   "source": [
    "Xtrain, Xtest, ytrain, ytest = train_test_split(X, salary_y, test_size=0.3) "
   ]
  },
  {
   "cell_type": "code",
   "execution_count": 74,
   "metadata": {},
   "outputs": [
    {
     "data": {
      "text/plain": [
       "(8747, 38)"
      ]
     },
     "execution_count": 74,
     "metadata": {},
     "output_type": "execute_result"
    }
   ],
   "source": [
    "Xtrain.shape"
   ]
  },
  {
   "cell_type": "code",
   "execution_count": 134,
   "metadata": {},
   "outputs": [],
   "source": [
    "input_dim = Xtrain.shape[1]   #the number of words (dimension) we use to train the model\n",
    "\n",
    "model = keras.models.Sequential()\n",
    "model.add(keras.layers.Dense(256, input_shape=(input_dim,), activity_regularizer=regularizers.l1(1e-5), activation='relu'))    #add a layer with 512 neurons and activation function is relu\n",
    "model.add(keras.layers.Dropout(.3, input_shape=(256,)))\n",
    "model.add(keras.layers.Dense(128, activity_regularizer=regularizers.l1(1e-5), activation='relu'))  \n",
    "model.add(keras.layers.Dropout(.3, input_shape=(128,)))\n",
    "model.add(keras.layers.Dense(64, activity_regularizer=regularizers.l1(1e-5), activation='relu'))\n",
    "model.add(keras.layers.Dropout(.3, input_shape=(64,)))\n",
    "#model.add(keras.layers.Dense(16, activation='tanh'))       \n",
    "model.add(keras.layers.Dense(15, activation='softmax'))      #output should have a dimension of 15 to match with target dimension\n",
    "                                                         \n",
    "\n",
    "#train the neural network with 'adam', a combination of stochastic gradient descent ('sgd') and RMS\n",
    "#train the neural network to minimize cross entropy\n",
    "#measure metrics is accuracy\n",
    "\n",
    "model.compile(optimizer='adam', \n",
    "              loss=keras.losses.CategoricalCrossentropy(), \n",
    "              metrics=['accuracy'])\n"
   ]
  },
  {
   "cell_type": "code",
   "execution_count": 135,
   "metadata": {},
   "outputs": [
    {
     "name": "stdout",
     "output_type": "stream",
     "text": [
      "Model: \"sequential_6\"\n",
      "_________________________________________________________________\n",
      "Layer (type)                 Output Shape              Param #   \n",
      "=================================================================\n",
      "dense_26 (Dense)             (None, 256)               9984      \n",
      "_________________________________________________________________\n",
      "dropout_9 (Dropout)          (None, 256)               0         \n",
      "_________________________________________________________________\n",
      "dense_27 (Dense)             (None, 128)               32896     \n",
      "_________________________________________________________________\n",
      "dropout_10 (Dropout)         (None, 128)               0         \n",
      "_________________________________________________________________\n",
      "dense_28 (Dense)             (None, 64)                8256      \n",
      "_________________________________________________________________\n",
      "dropout_11 (Dropout)         (None, 64)                0         \n",
      "_________________________________________________________________\n",
      "dense_29 (Dense)             (None, 15)                975       \n",
      "=================================================================\n",
      "Total params: 52,111\n",
      "Trainable params: 52,111\n",
      "Non-trainable params: 0\n",
      "_________________________________________________________________\n"
     ]
    }
   ],
   "source": [
    "model.summary()"
   ]
  },
  {
   "cell_type": "code",
   "execution_count": 136,
   "metadata": {},
   "outputs": [
    {
     "name": "stdout",
     "output_type": "stream",
     "text": [
      "Epoch 1/100\n",
      "8747/8747 [==============================] - 1s 114us/sample - loss: 2.3781 - acc: 0.2987\n",
      "Epoch 2/100\n",
      "8747/8747 [==============================] - 1s 96us/sample - loss: 2.1330 - acc: 0.3239\n",
      "Epoch 3/100\n",
      "8747/8747 [==============================] - 1s 131us/sample - loss: 2.0541 - acc: 0.3421\n",
      "Epoch 4/100\n",
      "8747/8747 [==============================] - 1s 137us/sample - loss: 1.9957 - acc: 0.3525\n",
      "Epoch 5/100\n",
      "8747/8747 [==============================] - 1s 135us/sample - loss: 1.9539 - acc: 0.3590\n",
      "Epoch 6/100\n",
      "8747/8747 [==============================] - 1s 132us/sample - loss: 1.9154 - acc: 0.3657\n",
      "Epoch 7/100\n",
      "8747/8747 [==============================] - 1s 124us/sample - loss: 1.8860 - acc: 0.3696\n",
      "Epoch 8/100\n",
      "8747/8747 [==============================] - 1s 118us/sample - loss: 1.8672 - acc: 0.3774\n",
      "Epoch 9/100\n",
      "8747/8747 [==============================] - 1s 121us/sample - loss: 1.8478 - acc: 0.3813\n",
      "Epoch 10/100\n",
      "8747/8747 [==============================] - 1s 130us/sample - loss: 1.8229 - acc: 0.3842\n",
      "Epoch 11/100\n",
      "8747/8747 [==============================] - 1s 136us/sample - loss: 1.8072 - acc: 0.3905\n",
      "Epoch 12/100\n",
      "8747/8747 [==============================] - 1s 128us/sample - loss: 1.7888 - acc: 0.3903\n",
      "Epoch 13/100\n",
      "8747/8747 [==============================] - 1s 128us/sample - loss: 1.7861 - acc: 0.3942\n",
      "Epoch 14/100\n",
      "8747/8747 [==============================] - 1s 84us/sample - loss: 1.7696 - acc: 0.3886\n",
      "Epoch 15/100\n",
      "8747/8747 [==============================] - 1s 103us/sample - loss: 1.7645 - acc: 0.3960s - loss: 1.77\n",
      "Epoch 16/100\n",
      "8747/8747 [==============================] - 1s 122us/sample - loss: 1.7502 - acc: 0.3942\n",
      "Epoch 17/100\n",
      "8747/8747 [==============================] - 1s 100us/sample - loss: 1.7477 - acc: 0.3998\n",
      "Epoch 18/100\n",
      "8747/8747 [==============================] - 1s 105us/sample - loss: 1.7317 - acc: 0.4040\n",
      "Epoch 19/100\n",
      "8747/8747 [==============================] - 1s 122us/sample - loss: 1.7322 - acc: 0.4031\n",
      "Epoch 20/100\n",
      "8747/8747 [==============================] - 1s 117us/sample - loss: 1.7154 - acc: 0.4104\n",
      "Epoch 21/100\n",
      "8747/8747 [==============================] - 1s 95us/sample - loss: 1.7096 - acc: 0.41240s - loss: 1.7036 - acc:\n",
      "Epoch 22/100\n",
      "8747/8747 [==============================] - 1s 99us/sample - loss: 1.6986 - acc: 0.4096\n",
      "Epoch 23/100\n",
      "8747/8747 [==============================] - 1s 99us/sample - loss: 1.6839 - acc: 0.4144\n",
      "Epoch 24/100\n",
      "8747/8747 [==============================] - 1s 93us/sample - loss: 1.6813 - acc: 0.4166\n",
      "Epoch 25/100\n",
      "8747/8747 [==============================] - 1s 115us/sample - loss: 1.6902 - acc: 0.4167\n",
      "Epoch 26/100\n",
      "8747/8747 [==============================] - 1s 98us/sample - loss: 1.6736 - acc: 0.4177\n",
      "Epoch 27/100\n",
      "8747/8747 [==============================] - 1s 90us/sample - loss: 1.6765 - acc: 0.4165\n",
      "Epoch 28/100\n",
      "8747/8747 [==============================] - 1s 101us/sample - loss: 1.6662 - acc: 0.4182\n",
      "Epoch 29/100\n",
      "8747/8747 [==============================] - 1s 118us/sample - loss: 1.6595 - acc: 0.4230\n",
      "Epoch 30/100\n",
      "8747/8747 [==============================] - 1s 117us/sample - loss: 1.6439 - acc: 0.4238\n",
      "Epoch 31/100\n",
      "8747/8747 [==============================] - 1s 114us/sample - loss: 1.6422 - acc: 0.4209\n",
      "Epoch 32/100\n",
      "8747/8747 [==============================] - 1s 61us/sample - loss: 1.6295 - acc: 0.4312\n",
      "Epoch 33/100\n",
      "8747/8747 [==============================] - 1s 104us/sample - loss: 1.6223 - acc: 0.4327\n",
      "Epoch 34/100\n",
      "8747/8747 [==============================] - 1s 90us/sample - loss: 1.6192 - acc: 0.4318\n",
      "Epoch 35/100\n",
      "8747/8747 [==============================] - 1s 103us/sample - loss: 1.6265 - acc: 0.4334\n",
      "Epoch 36/100\n",
      "8747/8747 [==============================] - 1s 98us/sample - loss: 1.6122 - acc: 0.4301\n",
      "Epoch 37/100\n",
      "8747/8747 [==============================] - 1s 123us/sample - loss: 1.6102 - acc: 0.4321\n",
      "Epoch 38/100\n",
      "8747/8747 [==============================] - 1s 106us/sample - loss: 1.6016 - acc: 0.4355\n",
      "Epoch 39/100\n",
      "8747/8747 [==============================] - 1s 107us/sample - loss: 1.6062 - acc: 0.4355\n",
      "Epoch 40/100\n",
      "8747/8747 [==============================] - 1s 94us/sample - loss: 1.5936 - acc: 0.4392\n",
      "Epoch 41/100\n",
      "8747/8747 [==============================] - 1s 117us/sample - loss: 1.5884 - acc: 0.4420\n",
      "Epoch 42/100\n",
      "8747/8747 [==============================] - 1s 101us/sample - loss: 1.5864 - acc: 0.4329\n",
      "Epoch 43/100\n",
      "8747/8747 [==============================] - 1s 125us/sample - loss: 1.5794 - acc: 0.4439\n",
      "Epoch 44/100\n",
      "8747/8747 [==============================] - 1s 133us/sample - loss: 1.5802 - acc: 0.4444\n",
      "Epoch 45/100\n",
      "8747/8747 [==============================] - 1s 114us/sample - loss: 1.5799 - acc: 0.4453\n",
      "Epoch 46/100\n",
      "8747/8747 [==============================] - 1s 91us/sample - loss: 1.5745 - acc: 0.4462\n",
      "Epoch 47/100\n",
      "8747/8747 [==============================] - 1s 81us/sample - loss: 1.5606 - acc: 0.4444\n",
      "Epoch 48/100\n",
      "8747/8747 [==============================] - 1s 78us/sample - loss: 1.5591 - acc: 0.4468\n",
      "Epoch 49/100\n",
      "8747/8747 [==============================] - 1s 94us/sample - loss: 1.5567 - acc: 0.4533\n",
      "Epoch 50/100\n",
      "8747/8747 [==============================] - 1s 66us/sample - loss: 1.5450 - acc: 0.4533\n",
      "Epoch 51/100\n",
      "8747/8747 [==============================] - 1s 70us/sample - loss: 1.5458 - acc: 0.4407\n",
      "Epoch 52/100\n",
      "8747/8747 [==============================] - 1s 90us/sample - loss: 1.5353 - acc: 0.4541\n",
      "Epoch 53/100\n",
      "8747/8747 [==============================] - 1s 93us/sample - loss: 1.5383 - acc: 0.4534\n",
      "Epoch 54/100\n",
      "8747/8747 [==============================] - 1s 116us/sample - loss: 1.5412 - acc: 0.4535\n",
      "Epoch 55/100\n",
      "8747/8747 [==============================] - 1s 132us/sample - loss: 1.5241 - acc: 0.4520\n",
      "Epoch 56/100\n",
      "8747/8747 [==============================] - 1s 114us/sample - loss: 1.5254 - acc: 0.4560\n",
      "Epoch 57/100\n",
      "8747/8747 [==============================] - 1s 115us/sample - loss: 1.5239 - acc: 0.4592\n",
      "Epoch 58/100\n",
      "8747/8747 [==============================] - 1s 123us/sample - loss: 1.5096 - acc: 0.4586\n",
      "Epoch 59/100\n",
      "8747/8747 [==============================] - 1s 90us/sample - loss: 1.5100 - acc: 0.4654\n",
      "Epoch 60/100\n",
      "8747/8747 [==============================] - 1s 138us/sample - loss: 1.5093 - acc: 0.4636\n",
      "Epoch 61/100\n",
      "8747/8747 [==============================] - 1s 122us/sample - loss: 1.5096 - acc: 0.4580\n",
      "Epoch 62/100\n",
      "8747/8747 [==============================] - 1s 62us/sample - loss: 1.5010 - acc: 0.4628\n",
      "Epoch 63/100\n",
      "8747/8747 [==============================] - 0s 45us/sample - loss: 1.5007 - acc: 0.4718\n",
      "Epoch 64/100\n",
      "8747/8747 [==============================] - 0s 46us/sample - loss: 1.4995 - acc: 0.4643\n",
      "Epoch 65/100\n",
      "8747/8747 [==============================] - 0s 44us/sample - loss: 1.4845 - acc: 0.4651\n",
      "Epoch 66/100\n",
      "8747/8747 [==============================] - 0s 53us/sample - loss: 1.4785 - acc: 0.4699\n",
      "Epoch 67/100\n",
      "8747/8747 [==============================] - 0s 56us/sample - loss: 1.4766 - acc: 0.4724\n",
      "Epoch 68/100\n",
      "8747/8747 [==============================] - 1s 116us/sample - loss: 1.4821 - acc: 0.4708\n",
      "Epoch 69/100\n",
      "8747/8747 [==============================] - 1s 116us/sample - loss: 1.4630 - acc: 0.4760\n",
      "Epoch 70/100\n",
      "8747/8747 [==============================] - 1s 118us/sample - loss: 1.4647 - acc: 0.4728\n",
      "Epoch 71/100\n",
      "8747/8747 [==============================] - 1s 121us/sample - loss: 1.4691 - acc: 0.4784\n",
      "Epoch 72/100\n",
      "8747/8747 [==============================] - 1s 121us/sample - loss: 1.4669 - acc: 0.4730\n",
      "Epoch 73/100\n",
      "8747/8747 [==============================] - 1s 120us/sample - loss: 1.4607 - acc: 0.4768\n",
      "Epoch 74/100\n",
      "8747/8747 [==============================] - 1s 116us/sample - loss: 1.4538 - acc: 0.4791\n",
      "Epoch 75/100\n",
      "8747/8747 [==============================] - 1s 116us/sample - loss: 1.4585 - acc: 0.4780\n",
      "Epoch 76/100\n",
      "8747/8747 [==============================] - 1s 118us/sample - loss: 1.4493 - acc: 0.4813\n",
      "Epoch 77/100\n",
      "8747/8747 [==============================] - 1s 117us/sample - loss: 1.4440 - acc: 0.4786\n",
      "Epoch 78/100\n",
      "8747/8747 [==============================] - 1s 119us/sample - loss: 1.4348 - acc: 0.4844\n",
      "Epoch 79/100\n",
      "8747/8747 [==============================] - 1s 91us/sample - loss: 1.4340 - acc: 0.4807\n",
      "Epoch 80/100\n",
      "8747/8747 [==============================] - 1s 74us/sample - loss: 1.4457 - acc: 0.4847\n",
      "Epoch 81/100\n",
      "8747/8747 [==============================] - 1s 61us/sample - loss: 1.4370 - acc: 0.4870\n",
      "Epoch 82/100\n",
      "8747/8747 [==============================] - 1s 79us/sample - loss: 1.4334 - acc: 0.4858\n",
      "Epoch 83/100\n",
      "8747/8747 [==============================] - 1s 72us/sample - loss: 1.4209 - acc: 0.4849\n",
      "Epoch 84/100\n",
      "8747/8747 [==============================] - 1s 111us/sample - loss: 1.4264 - acc: 0.4925\n",
      "Epoch 85/100\n",
      "8747/8747 [==============================] - 1s 127us/sample - loss: 1.4175 - acc: 0.4869\n",
      "Epoch 86/100\n",
      "8747/8747 [==============================] - 1s 117us/sample - loss: 1.4195 - acc: 0.4982\n",
      "Epoch 87/100\n",
      "8747/8747 [==============================] - 1s 70us/sample - loss: 1.4158 - acc: 0.4919\n",
      "Epoch 88/100\n",
      "8747/8747 [==============================] - 1s 61us/sample - loss: 1.3986 - acc: 0.4943\n",
      "Epoch 89/100\n",
      "8747/8747 [==============================] - 1s 67us/sample - loss: 1.4067 - acc: 0.4926\n",
      "Epoch 90/100\n",
      "8747/8747 [==============================] - 1s 69us/sample - loss: 1.4061 - acc: 0.4924\n",
      "Epoch 91/100\n",
      "8747/8747 [==============================] - 1s 67us/sample - loss: 1.4067 - acc: 0.4997\n",
      "Epoch 92/100\n",
      "8747/8747 [==============================] - 1s 67us/sample - loss: 1.3940 - acc: 0.4967\n",
      "Epoch 93/100\n",
      "8747/8747 [==============================] - 1s 70us/sample - loss: 1.4051 - acc: 0.48940s - loss: 1.4129 - a\n",
      "Epoch 94/100\n",
      "8747/8747 [==============================] - 1s 67us/sample - loss: 1.3930 - acc: 0.4951\n",
      "Epoch 95/100\n",
      "8747/8747 [==============================] - 1s 67us/sample - loss: 1.3929 - acc: 0.5002\n",
      "Epoch 96/100\n",
      "8747/8747 [==============================] - 1s 68us/sample - loss: 1.3905 - acc: 0.4965\n",
      "Epoch 97/100\n",
      "8747/8747 [==============================] - 1s 67us/sample - loss: 1.3897 - acc: 0.4989\n",
      "Epoch 98/100\n",
      "8747/8747 [==============================] - 1s 68us/sample - loss: 1.3935 - acc: 0.4967\n",
      "Epoch 99/100\n",
      "8747/8747 [==============================] - 1s 103us/sample - loss: 1.3819 - acc: 0.5019\n",
      "Epoch 100/100\n",
      "8747/8747 [==============================] - 1s 113us/sample - loss: 1.3770 - acc: 0.4993\n"
     ]
    }
   ],
   "source": [
    "X_train_array = Xtrain.values.astype('float')\n",
    "y_train_array = ytrain.values\n",
    "\n",
    "#batch_size = 100\n",
    "\n",
    "#verbose=1 to show the progress bar\n",
    "history=model.fit(X_train_array, y_train_array,\n",
    "                    epochs=100,\n",
    "                    batch_size=100,\n",
    "                    shuffle=True,\n",
    "                    verbose=1\n",
    "               ).history"
   ]
  },
  {
   "cell_type": "code",
   "execution_count": 137,
   "metadata": {},
   "outputs": [
    {
     "data": {
      "text/html": [
       "<div>\n",
       "<style scoped>\n",
       "    .dataframe tbody tr th:only-of-type {\n",
       "        vertical-align: middle;\n",
       "    }\n",
       "\n",
       "    .dataframe tbody tr th {\n",
       "        vertical-align: top;\n",
       "    }\n",
       "\n",
       "    .dataframe thead th {\n",
       "        text-align: right;\n",
       "    }\n",
       "</style>\n",
       "<table border=\"1\" class=\"dataframe\">\n",
       "  <thead>\n",
       "    <tr style=\"text-align: right;\">\n",
       "      <th></th>\n",
       "      <th>0</th>\n",
       "      <th>1</th>\n",
       "      <th>2</th>\n",
       "      <th>3</th>\n",
       "      <th>4</th>\n",
       "      <th>5</th>\n",
       "      <th>6</th>\n",
       "      <th>7</th>\n",
       "      <th>8</th>\n",
       "      <th>9</th>\n",
       "      <th>10</th>\n",
       "      <th>11</th>\n",
       "      <th>12</th>\n",
       "      <th>13</th>\n",
       "      <th>14</th>\n",
       "    </tr>\n",
       "  </thead>\n",
       "  <tbody>\n",
       "    <tr>\n",
       "      <th>0</th>\n",
       "      <td>0.018807</td>\n",
       "      <td>0.029395</td>\n",
       "      <td>0.045467</td>\n",
       "      <td>0.084016</td>\n",
       "      <td>0.117320</td>\n",
       "      <td>0.121188</td>\n",
       "      <td>0.132453</td>\n",
       "      <td>0.116333</td>\n",
       "      <td>0.119776</td>\n",
       "      <td>0.062496</td>\n",
       "      <td>0.121748</td>\n",
       "      <td>0.019921</td>\n",
       "      <td>0.006812</td>\n",
       "      <td>0.003223</td>\n",
       "      <td>0.001045</td>\n",
       "    </tr>\n",
       "    <tr>\n",
       "      <th>1</th>\n",
       "      <td>0.282705</td>\n",
       "      <td>0.391623</td>\n",
       "      <td>0.200997</td>\n",
       "      <td>0.053891</td>\n",
       "      <td>0.012406</td>\n",
       "      <td>0.028316</td>\n",
       "      <td>0.018696</td>\n",
       "      <td>0.004602</td>\n",
       "      <td>0.002019</td>\n",
       "      <td>0.003504</td>\n",
       "      <td>0.001017</td>\n",
       "      <td>0.000129</td>\n",
       "      <td>0.000066</td>\n",
       "      <td>0.000013</td>\n",
       "      <td>0.000016</td>\n",
       "    </tr>\n",
       "    <tr>\n",
       "      <th>2</th>\n",
       "      <td>0.001371</td>\n",
       "      <td>0.000890</td>\n",
       "      <td>0.249708</td>\n",
       "      <td>0.144946</td>\n",
       "      <td>0.219481</td>\n",
       "      <td>0.149220</td>\n",
       "      <td>0.128438</td>\n",
       "      <td>0.051175</td>\n",
       "      <td>0.027079</td>\n",
       "      <td>0.008097</td>\n",
       "      <td>0.019514</td>\n",
       "      <td>0.000033</td>\n",
       "      <td>0.000034</td>\n",
       "      <td>0.000008</td>\n",
       "      <td>0.000006</td>\n",
       "    </tr>\n",
       "    <tr>\n",
       "      <th>3</th>\n",
       "      <td>0.165007</td>\n",
       "      <td>0.171234</td>\n",
       "      <td>0.119802</td>\n",
       "      <td>0.085031</td>\n",
       "      <td>0.084572</td>\n",
       "      <td>0.100888</td>\n",
       "      <td>0.082668</td>\n",
       "      <td>0.051031</td>\n",
       "      <td>0.035771</td>\n",
       "      <td>0.043421</td>\n",
       "      <td>0.027043</td>\n",
       "      <td>0.021031</td>\n",
       "      <td>0.007311</td>\n",
       "      <td>0.003270</td>\n",
       "      <td>0.001919</td>\n",
       "    </tr>\n",
       "    <tr>\n",
       "      <th>4</th>\n",
       "      <td>0.034617</td>\n",
       "      <td>0.044606</td>\n",
       "      <td>0.060918</td>\n",
       "      <td>0.159093</td>\n",
       "      <td>0.175713</td>\n",
       "      <td>0.205323</td>\n",
       "      <td>0.107451</td>\n",
       "      <td>0.112897</td>\n",
       "      <td>0.044984</td>\n",
       "      <td>0.016920</td>\n",
       "      <td>0.036106</td>\n",
       "      <td>0.000974</td>\n",
       "      <td>0.000251</td>\n",
       "      <td>0.000117</td>\n",
       "      <td>0.000031</td>\n",
       "    </tr>\n",
       "  </tbody>\n",
       "</table>\n",
       "</div>"
      ],
      "text/plain": [
       "         0         1         2         3         4         5         6   \\\n",
       "0  0.018807  0.029395  0.045467  0.084016  0.117320  0.121188  0.132453   \n",
       "1  0.282705  0.391623  0.200997  0.053891  0.012406  0.028316  0.018696   \n",
       "2  0.001371  0.000890  0.249708  0.144946  0.219481  0.149220  0.128438   \n",
       "3  0.165007  0.171234  0.119802  0.085031  0.084572  0.100888  0.082668   \n",
       "4  0.034617  0.044606  0.060918  0.159093  0.175713  0.205323  0.107451   \n",
       "\n",
       "         7         8         9         10        11        12        13  \\\n",
       "0  0.116333  0.119776  0.062496  0.121748  0.019921  0.006812  0.003223   \n",
       "1  0.004602  0.002019  0.003504  0.001017  0.000129  0.000066  0.000013   \n",
       "2  0.051175  0.027079  0.008097  0.019514  0.000033  0.000034  0.000008   \n",
       "3  0.051031  0.035771  0.043421  0.027043  0.021031  0.007311  0.003270   \n",
       "4  0.112897  0.044984  0.016920  0.036106  0.000974  0.000251  0.000117   \n",
       "\n",
       "         14  \n",
       "0  0.001045  \n",
       "1  0.000016  \n",
       "2  0.000006  \n",
       "3  0.001919  \n",
       "4  0.000031  "
      ]
     },
     "execution_count": 137,
     "metadata": {},
     "output_type": "execute_result"
    }
   ],
   "source": [
    "X_test_t_array = Xtest.values.astype('float')\n",
    "predictions = model.predict(Xtest)\n",
    "pred = pd.DataFrame(predictions)\n",
    "pred.head()"
   ]
  },
  {
   "cell_type": "code",
   "execution_count": 138,
   "metadata": {},
   "outputs": [
    {
     "name": "stdout",
     "output_type": "stream",
     "text": [
      "0.39093333333333335\n"
     ]
    }
   ],
   "source": [
    "\n",
    "#pred = pd.DataFrame(predictions)\n",
    "#y_pred = np.array(pred.idxmax(axis=1))+1\n",
    "#y_test = np.array(ytest.values)\n",
    "#accuracy = accuracy_score(y_test, y_pred)\n",
    "#print ('accuracy of neural network=',round(accuracy,3))\n",
    "#pred.idxmax(axis=1)\n",
    "y_pred = list(pred.idxmax(axis=1).values)\n",
    "y_test = list(ytest.idxmax(axis=1).values)\n",
    "\n",
    "accuracy = accuracy_score(y_pred, y_test)\n",
    "print(accuracy)"
   ]
  },
  {
   "cell_type": "markdown",
   "metadata": {},
   "source": [
    "###### The dataset is extremely imbalanced, and the model didn't learn enough from each class. \n",
    "###### If we want a neural network model with higher accuracy, we need more parameter tuning."
   ]
  },
  {
   "cell_type": "markdown",
   "metadata": {},
   "source": [
    "### -------------------------------------------------END---------------------------------------------------"
   ]
  },
  {
   "cell_type": "markdown",
   "metadata": {},
   "source": [
    "### -------------------------------------------------START---------------------------------------------------"
   ]
  },
  {
   "cell_type": "markdown",
   "metadata": {},
   "source": [
    "#### 7.2 Logistic Regression"
   ]
  },
  {
   "cell_type": "markdown",
   "metadata": {},
   "source": [
    "##### 7.2.1 Try logistic regression in this way:\n",
    "\n",
    "For each label, we need a logistic regression model to implement a binary prediction, which means there will be total 15 models finally.\n",
    "\n",
    "Each model generates the probability of whether this sample belongs to this label.\n",
    "\n",
    "To decide the label of a sample, we pick the label with the highest probability."
   ]
  },
  {
   "cell_type": "code",
   "execution_count": 106,
   "metadata": {},
   "outputs": [
    {
     "data": {
      "text/html": [
       "<div>\n",
       "<style scoped>\n",
       "    .dataframe tbody tr th:only-of-type {\n",
       "        vertical-align: middle;\n",
       "    }\n",
       "\n",
       "    .dataframe tbody tr th {\n",
       "        vertical-align: top;\n",
       "    }\n",
       "\n",
       "    .dataframe thead th {\n",
       "        text-align: right;\n",
       "    }\n",
       "</style>\n",
       "<table border=\"1\" class=\"dataframe\">\n",
       "  <thead>\n",
       "    <tr style=\"text-align: right;\">\n",
       "      <th></th>\n",
       "      <th>Salary_0</th>\n",
       "      <th>Salary_1</th>\n",
       "      <th>Salary_2</th>\n",
       "      <th>Salary_3</th>\n",
       "      <th>Salary_4</th>\n",
       "      <th>Salary_5</th>\n",
       "      <th>Salary_6</th>\n",
       "      <th>Salary_7</th>\n",
       "      <th>Salary_8</th>\n",
       "      <th>Salary_9</th>\n",
       "      <th>Salary_10</th>\n",
       "      <th>Salary_11</th>\n",
       "      <th>Salary_12</th>\n",
       "      <th>Salary_13</th>\n",
       "      <th>Salary_14</th>\n",
       "      <th>Q10_Encoded</th>\n",
       "    </tr>\n",
       "  </thead>\n",
       "  <tbody>\n",
       "    <tr>\n",
       "      <th>0</th>\n",
       "      <td>0</td>\n",
       "      <td>0</td>\n",
       "      <td>0</td>\n",
       "      <td>1</td>\n",
       "      <td>0</td>\n",
       "      <td>0</td>\n",
       "      <td>0</td>\n",
       "      <td>0</td>\n",
       "      <td>0</td>\n",
       "      <td>0</td>\n",
       "      <td>0</td>\n",
       "      <td>0</td>\n",
       "      <td>0</td>\n",
       "      <td>0</td>\n",
       "      <td>0</td>\n",
       "      <td>3</td>\n",
       "    </tr>\n",
       "    <tr>\n",
       "      <th>1</th>\n",
       "      <td>1</td>\n",
       "      <td>0</td>\n",
       "      <td>0</td>\n",
       "      <td>0</td>\n",
       "      <td>0</td>\n",
       "      <td>0</td>\n",
       "      <td>0</td>\n",
       "      <td>0</td>\n",
       "      <td>0</td>\n",
       "      <td>0</td>\n",
       "      <td>0</td>\n",
       "      <td>0</td>\n",
       "      <td>0</td>\n",
       "      <td>0</td>\n",
       "      <td>0</td>\n",
       "      <td>0</td>\n",
       "    </tr>\n",
       "    <tr>\n",
       "      <th>2</th>\n",
       "      <td>0</td>\n",
       "      <td>0</td>\n",
       "      <td>0</td>\n",
       "      <td>0</td>\n",
       "      <td>0</td>\n",
       "      <td>0</td>\n",
       "      <td>0</td>\n",
       "      <td>0</td>\n",
       "      <td>0</td>\n",
       "      <td>0</td>\n",
       "      <td>0</td>\n",
       "      <td>0</td>\n",
       "      <td>0</td>\n",
       "      <td>0</td>\n",
       "      <td>1</td>\n",
       "      <td>14</td>\n",
       "    </tr>\n",
       "    <tr>\n",
       "      <th>3</th>\n",
       "      <td>1</td>\n",
       "      <td>0</td>\n",
       "      <td>0</td>\n",
       "      <td>0</td>\n",
       "      <td>0</td>\n",
       "      <td>0</td>\n",
       "      <td>0</td>\n",
       "      <td>0</td>\n",
       "      <td>0</td>\n",
       "      <td>0</td>\n",
       "      <td>0</td>\n",
       "      <td>0</td>\n",
       "      <td>0</td>\n",
       "      <td>0</td>\n",
       "      <td>0</td>\n",
       "      <td>0</td>\n",
       "    </tr>\n",
       "    <tr>\n",
       "      <th>4</th>\n",
       "      <td>0</td>\n",
       "      <td>0</td>\n",
       "      <td>0</td>\n",
       "      <td>0</td>\n",
       "      <td>0</td>\n",
       "      <td>0</td>\n",
       "      <td>1</td>\n",
       "      <td>0</td>\n",
       "      <td>0</td>\n",
       "      <td>0</td>\n",
       "      <td>0</td>\n",
       "      <td>0</td>\n",
       "      <td>0</td>\n",
       "      <td>0</td>\n",
       "      <td>0</td>\n",
       "      <td>6</td>\n",
       "    </tr>\n",
       "  </tbody>\n",
       "</table>\n",
       "</div>"
      ],
      "text/plain": [
       "   Salary_0  Salary_1  Salary_2  Salary_3  Salary_4  Salary_5  Salary_6  \\\n",
       "0         0         0         0         1         0         0         0   \n",
       "1         1         0         0         0         0         0         0   \n",
       "2         0         0         0         0         0         0         0   \n",
       "3         1         0         0         0         0         0         0   \n",
       "4         0         0         0         0         0         0         1   \n",
       "\n",
       "   Salary_7  Salary_8  Salary_9  Salary_10  Salary_11  Salary_12  Salary_13  \\\n",
       "0         0         0         0          0          0          0          0   \n",
       "1         0         0         0          0          0          0          0   \n",
       "2         0         0         0          0          0          0          0   \n",
       "3         0         0         0          0          0          0          0   \n",
       "4         0         0         0          0          0          0          0   \n",
       "\n",
       "   Salary_14  Q10_Encoded  \n",
       "0          0            3  \n",
       "1          0            0  \n",
       "2          1           14  \n",
       "3          0            0  \n",
       "4          0            6  "
      ]
     },
     "execution_count": 106,
     "metadata": {},
     "output_type": "execute_result"
    }
   ],
   "source": [
    "target = pd.concat([salary_y,y],axis=1)\n",
    "target.head()"
   ]
  },
  {
   "cell_type": "code",
   "execution_count": 185,
   "metadata": {},
   "outputs": [
    {
     "data": {
      "text/plain": [
       "<matplotlib.axes._subplots.AxesSubplot at 0x16091e34ba8>"
      ]
     },
     "execution_count": 185,
     "metadata": {},
     "output_type": "execute_result"
    },
    {
     "data": {
      "image/png": "[encoded data removed]",
      "text/plain": [
       "<Figure size 1080x360 with 1 Axes>"
      ]
     },
     "metadata": {
      "needs_background": "light"
     },
     "output_type": "display_data"
    }
   ],
   "source": [
    "figx, ax1 = plt.subplots(1,1, figsize=(15,5))\n",
    "sns.countplot(x='Q10_Encoded', data=target,ax=ax1)"
   ]
  },
  {
   "cell_type": "markdown",
   "metadata": {
    "colab_type": "text",
    "id": "2LiacKkCwi80"
   },
   "source": [
    "#### Split the data and target\n",
    "We split the data into a training set and a test set with a 70%-30% split. Use sklearn function train_test_split to split data."
   ]
  },
  {
   "cell_type": "code",
   "execution_count": 165,
   "metadata": {
    "colab": {},
    "colab_type": "code",
    "id": "_GV12zcAwi81"
   },
   "outputs": [],
   "source": [
    "Xtrain, Xtest, ytrain, ytest = train_test_split(X, target, test_size=0.3) "
   ]
  },
  {
   "cell_type": "markdown",
   "metadata": {},
   "source": [
    "#### Model training\n",
    "An ideal model predicts accurately for all samples, so we want to build a model with low bias and low variance.\n",
    "- Use sklearn function LogisticRegression to fit a model.\n",
    "\n",
    "- 10-fold cross validation: The training set is split into 10 equal sizes. 9 subsets are used for training, and the remaining 1 subset is used for testing. This process runs 10 times, and each time a different subset is used for testing. At the end, we obtain 10 accuracies for the training set, and we get average accuracy and standard deviation of the accuracy. High average accuracy means a good fit and a low bias of a model. Low standard deviation of accuracy indicates prediction results of subsets have similar accuracy, so the model prediction has low variance.\n",
    "- accuracy = (TruePositive + TrueNegative) / (TruePositive + TrueNegative + FalsePositive + FalseNegative)\n"
   ]
  },
  {
   "cell_type": "code",
   "execution_count": 140,
   "metadata": {},
   "outputs": [],
   "source": [
    "salary_index = list(range(15))"
   ]
  },
  {
   "cell_type": "code",
   "execution_count": 183,
   "metadata": {},
   "outputs": [
    {
     "name": "stdout",
     "output_type": "stream",
     "text": [
      "Fold 1: Accuracy: 0.352\n",
      "Fold 2: Accuracy: 0.363\n",
      "Fold 3: Accuracy: 0.416\n",
      "Fold 4: Accuracy: 0.383\n",
      "Fold 5: Accuracy: 0.375\n",
      "Fold 6: Accuracy: 0.406\n",
      "Fold 7: Accuracy: 0.33\n",
      "Fold 8: Accuracy: 0.365\n",
      "Fold 9: Accuracy: 0.359\n",
      "Fold 10: Accuracy: 0.348\n",
      "Average Score: 0.37\n",
      "Standard Deviation of Score: 0.025\n"
     ]
    }
   ],
   "source": [
    "#train 15 models\n",
    "##separate salary bucket y\n",
    "#predict salary 15 times\n",
    "kfold = KFold(n_splits=10)     #split folds\n",
    "kfold.get_n_splits(Xtrain)\n",
    "accuracy = np.zeros(10)\n",
    "np_idx = 0\n",
    "recall_list=[]\n",
    "\n",
    "for train_idx, test_idx in kfold.split(Xtrain):\n",
    "    train_idx = list(train_idx)\n",
    "    test_idx = list(test_idx)\n",
    "    X_train, X_test = Xtrain.iloc[train_idx,:], Xtrain.values[test_idx,:]      #get a fold\n",
    "    y_training, y_test = ytrain.iloc[train_idx,:], ytrain.iloc[test_idx,:]\n",
    "    \n",
    "    X_train = scaler.fit_transform(X_train)    # standardize data\n",
    "    X_test = scaler.fit_transform(X_test)\n",
    "    \n",
    "    y_train_probability=[]\n",
    "    y_test_probability=[]\n",
    "    r_list=[]\n",
    "    for i in range(15):\n",
    "    \n",
    "        y_train = y_training.iloc[:,i]\n",
    "        lr = LogisticRegression()\n",
    "    \n",
    "        lr.fit(X_train, y_train)\n",
    "        #get the probability of a sample belonging to the salary i for train set\n",
    "        y_train_prob = lr.predict_proba(X_train)\n",
    "        y_train_probability.append(y_train_prob[:,1]) \n",
    "        \n",
    "        #get the probability of a sample belonging to the salary i for test set\n",
    "        y_pred = lr.predict(X_test)\n",
    "        y_test_prob = lr.predict_proba(X_test)\n",
    "    \n",
    "        y_test_probability.append(y_test_prob[:,1])   \n",
    "    \n",
    "        #get recall of the model for salary i\n",
    "        r2 = recall_score(y_pred, y_test.iloc[:,i])\n",
    "        r_list.append(r2)\n",
    "    \n",
    "    recall_list.append(r_list)\n",
    "    \n",
    "    #create a dataframe to store probability\n",
    "    y_prob_dict = dict(zip(salary_index, y_test_probability))\n",
    "    y_prob_df = pd.DataFrame(y_prob_dict)\n",
    "    \n",
    "    #get accuracy \n",
    "    y_prediction = y_prob_df.idxmax(axis=1)\n",
    "    ACC = accuracy_score(y_prediction, y_test['Q10_Encoded'])\n",
    "    \n",
    "    accuracy[np_idx] = ACC    \n",
    "    np_idx += 1\n",
    "    \n",
    "    print (\"Fold {}: Accuracy: {}\".format(np_idx, round(ACC,3)))      #round accuracy to 3-digit float\n",
    "\n",
    "print (\"Average Score: {}\".format(round(np.mean(accuracy),3)))   #print average and std of accuracy\n",
    "print (\"Standard Deviation of Score: {}\".format(round(np.std(accuracy),3)))\n",
    "\n",
    "#Xtrain = scaler.fit_transform(Xtrain)\n",
    "#Xtest = scaler.fit_transform(Xtest)\n",
    "\n",
    "#y_train_probability=[]\n",
    "#y_test_probability=[]\n",
    "#for i in range(15):\n",
    "    \n",
    "#    y_train = ytrain[ytrain.columns[i]]\n",
    "#    lr = LogisticRegression()\n",
    "    \n",
    "#    lr.fit(Xtrain, y_train)\n",
    "    \n",
    "#    y_train_prob = lr.predict_proba(Xtrain)\n",
    "#    y_train_probability.append(y_train_prob[:,1])\n",
    "    \n",
    "#    y_pred = lr.predict(Xtest)\n",
    "#    prob = lr.predict_proba(Xtest)\n",
    "    \n",
    "#    y_test_probability.append(prob[:,1])\n",
    "    \n",
    "    \n",
    "    #r1 = recall_score(y_, ytest[ytest.columns[i]])\n",
    "#    r2 = recall_score(y_pred, ytest[ytest.columns[i]])\n",
    "#    print('for salary bucket ', i, ', recall of ytest:', r2)\n",
    "\n",
    "\n",
    "##save probability for each model\n",
    "##compare probabilities for each sample, pick the highest one\n",
    "##make decision, save in list/array\n",
    "##"
   ]
  },
  {
   "cell_type": "code",
   "execution_count": 184,
   "metadata": {},
   "outputs": [
    {
     "data": {
      "text/plain": [
       "[[0.7613168724279835,\n",
       "  0.0,\n",
       "  0.0,\n",
       "  0.0,\n",
       "  0.0,\n",
       "  0.0,\n",
       "  0.0,\n",
       "  0.0,\n",
       "  0.0,\n",
       "  0.0,\n",
       "  0.0,\n",
       "  1.0,\n",
       "  0.14285714285714285,\n",
       "  0.0,\n",
       "  0.0],\n",
       " [0.7058823529411765,\n",
       "  0.0,\n",
       "  0.0,\n",
       "  0.0,\n",
       "  0.0,\n",
       "  0.0,\n",
       "  0.0,\n",
       "  0.0,\n",
       "  0.0,\n",
       "  0.0,\n",
       "  0.5,\n",
       "  1.0,\n",
       "  0.25,\n",
       "  0.0,\n",
       "  0.0],\n",
       " [0.7800829875518672,\n",
       "  0.0,\n",
       "  0.0,\n",
       "  0.0,\n",
       "  0.0,\n",
       "  0.0,\n",
       "  0.0,\n",
       "  0.0,\n",
       "  0.0,\n",
       "  0.0,\n",
       "  0.0,\n",
       "  0.0,\n",
       "  0.5,\n",
       "  0.0,\n",
       "  1.0],\n",
       " [0.75, 0.0, 0.0, 0.0, 0.0, 0.0, 0.0, 0.0, 0.0, 0.0, 1.0, 0.0, 0.5, 0.0, 1.0],\n",
       " [0.7430830039525692,\n",
       "  0.0,\n",
       "  0.0,\n",
       "  0.0,\n",
       "  0.0,\n",
       "  0.0,\n",
       "  0.0,\n",
       "  0.0,\n",
       "  0.0,\n",
       "  0.0,\n",
       "  0.0,\n",
       "  0.0,\n",
       "  0.0,\n",
       "  1.0,\n",
       "  0.8333333333333334],\n",
       " [0.7900763358778626,\n",
       "  0.0,\n",
       "  0.0,\n",
       "  0.0,\n",
       "  0.0,\n",
       "  0.0,\n",
       "  0.0,\n",
       "  0.0,\n",
       "  0.0,\n",
       "  0.0,\n",
       "  0.0,\n",
       "  0.25,\n",
       "  0.125,\n",
       "  0.0,\n",
       "  1.0],\n",
       " [0.676, 0.0, 0.0, 0.0, 0.0, 0.0, 0.0, 0.0, 0.0, 0.0, 0.0, 0.0, 0.0, 0.0, 1.0],\n",
       " [0.7626459143968871,\n",
       "  0.0,\n",
       "  0.0,\n",
       "  0.0,\n",
       "  0.0,\n",
       "  0.0,\n",
       "  0.0,\n",
       "  0.0,\n",
       "  0.0,\n",
       "  0.0,\n",
       "  0.0,\n",
       "  0.5,\n",
       "  0.0,\n",
       "  0.0,\n",
       "  1.0],\n",
       " [0.7366255144032922,\n",
       "  0.0,\n",
       "  0.0,\n",
       "  0.0,\n",
       "  0.0,\n",
       "  0.0,\n",
       "  0.0,\n",
       "  0.0,\n",
       "  0.0,\n",
       "  0.0,\n",
       "  0.0,\n",
       "  0.0,\n",
       "  0.5,\n",
       "  1.0,\n",
       "  0.3333333333333333],\n",
       " [0.7620967741935484,\n",
       "  0.0,\n",
       "  0.0,\n",
       "  0.0,\n",
       "  0.0,\n",
       "  0.0,\n",
       "  0.0,\n",
       "  0.0,\n",
       "  0.0,\n",
       "  0.0,\n",
       "  0.0,\n",
       "  0.0,\n",
       "  0.16666666666666666,\n",
       "  0.0,\n",
       "  1.0]]"
      ]
     },
     "execution_count": 184,
     "metadata": {},
     "output_type": "execute_result"
    }
   ],
   "source": [
    "recall_list"
   ]
  },
  {
   "cell_type": "markdown",
   "metadata": {},
   "source": [
    "Transform probability results to label results. Calculate total accuracy and recall."
   ]
  },
  {
   "cell_type": "code",
   "execution_count": 118,
   "metadata": {},
   "outputs": [],
   "source": [
    "\n",
    "salary_index = list(range(15))\n",
    "y_prob_dict = dict(zip(salary_index, y_test_probability))\n",
    "y_prob_df = pd.DataFrame(y_prob_dict)"
   ]
  },
  {
   "cell_type": "code",
   "execution_count": 110,
   "metadata": {},
   "outputs": [
    {
     "data": {
      "text/plain": [
       "0    0\n",
       "1    0\n",
       "2    0\n",
       "3    0\n",
       "4    0\n",
       "5    0\n",
       "6    0\n",
       "7    2\n",
       "8    0\n",
       "9    0\n",
       "dtype: int64"
      ]
     },
     "execution_count": 110,
     "metadata": {},
     "output_type": "execute_result"
    }
   ],
   "source": [
    "y_prob_df.idxmax(axis=1).head(10)"
   ]
  },
  {
   "cell_type": "code",
   "execution_count": 111,
   "metadata": {},
   "outputs": [
    {
     "data": {
      "text/html": [
       "<div>\n",
       "<style scoped>\n",
       "    .dataframe tbody tr th:only-of-type {\n",
       "        vertical-align: middle;\n",
       "    }\n",
       "\n",
       "    .dataframe tbody tr th {\n",
       "        vertical-align: top;\n",
       "    }\n",
       "\n",
       "    .dataframe thead th {\n",
       "        text-align: right;\n",
       "    }\n",
       "</style>\n",
       "<table border=\"1\" class=\"dataframe\">\n",
       "  <thead>\n",
       "    <tr style=\"text-align: right;\">\n",
       "      <th></th>\n",
       "      <th>Salary_0</th>\n",
       "      <th>Salary_1</th>\n",
       "      <th>Salary_2</th>\n",
       "      <th>Salary_3</th>\n",
       "      <th>Salary_4</th>\n",
       "      <th>Salary_5</th>\n",
       "      <th>Salary_6</th>\n",
       "      <th>Salary_7</th>\n",
       "      <th>Salary_8</th>\n",
       "      <th>Salary_9</th>\n",
       "      <th>Salary_10</th>\n",
       "      <th>Salary_11</th>\n",
       "      <th>Salary_12</th>\n",
       "      <th>Salary_13</th>\n",
       "      <th>Salary_14</th>\n",
       "      <th>Q10_Encoded</th>\n",
       "    </tr>\n",
       "  </thead>\n",
       "  <tbody>\n",
       "    <tr>\n",
       "      <th>9989</th>\n",
       "      <td>0</td>\n",
       "      <td>0</td>\n",
       "      <td>0</td>\n",
       "      <td>0</td>\n",
       "      <td>0</td>\n",
       "      <td>0</td>\n",
       "      <td>0</td>\n",
       "      <td>1</td>\n",
       "      <td>0</td>\n",
       "      <td>0</td>\n",
       "      <td>0</td>\n",
       "      <td>0</td>\n",
       "      <td>0</td>\n",
       "      <td>0</td>\n",
       "      <td>0</td>\n",
       "      <td>7</td>\n",
       "    </tr>\n",
       "    <tr>\n",
       "      <th>7833</th>\n",
       "      <td>0</td>\n",
       "      <td>0</td>\n",
       "      <td>0</td>\n",
       "      <td>0</td>\n",
       "      <td>0</td>\n",
       "      <td>0</td>\n",
       "      <td>0</td>\n",
       "      <td>0</td>\n",
       "      <td>0</td>\n",
       "      <td>0</td>\n",
       "      <td>1</td>\n",
       "      <td>0</td>\n",
       "      <td>0</td>\n",
       "      <td>0</td>\n",
       "      <td>0</td>\n",
       "      <td>10</td>\n",
       "    </tr>\n",
       "    <tr>\n",
       "      <th>2447</th>\n",
       "      <td>0</td>\n",
       "      <td>1</td>\n",
       "      <td>0</td>\n",
       "      <td>0</td>\n",
       "      <td>0</td>\n",
       "      <td>0</td>\n",
       "      <td>0</td>\n",
       "      <td>0</td>\n",
       "      <td>0</td>\n",
       "      <td>0</td>\n",
       "      <td>0</td>\n",
       "      <td>0</td>\n",
       "      <td>0</td>\n",
       "      <td>0</td>\n",
       "      <td>0</td>\n",
       "      <td>1</td>\n",
       "    </tr>\n",
       "    <tr>\n",
       "      <th>6290</th>\n",
       "      <td>0</td>\n",
       "      <td>0</td>\n",
       "      <td>0</td>\n",
       "      <td>0</td>\n",
       "      <td>0</td>\n",
       "      <td>1</td>\n",
       "      <td>0</td>\n",
       "      <td>0</td>\n",
       "      <td>0</td>\n",
       "      <td>0</td>\n",
       "      <td>0</td>\n",
       "      <td>0</td>\n",
       "      <td>0</td>\n",
       "      <td>0</td>\n",
       "      <td>0</td>\n",
       "      <td>5</td>\n",
       "    </tr>\n",
       "    <tr>\n",
       "      <th>328</th>\n",
       "      <td>0</td>\n",
       "      <td>0</td>\n",
       "      <td>1</td>\n",
       "      <td>0</td>\n",
       "      <td>0</td>\n",
       "      <td>0</td>\n",
       "      <td>0</td>\n",
       "      <td>0</td>\n",
       "      <td>0</td>\n",
       "      <td>0</td>\n",
       "      <td>0</td>\n",
       "      <td>0</td>\n",
       "      <td>0</td>\n",
       "      <td>0</td>\n",
       "      <td>0</td>\n",
       "      <td>2</td>\n",
       "    </tr>\n",
       "    <tr>\n",
       "      <th>7517</th>\n",
       "      <td>0</td>\n",
       "      <td>0</td>\n",
       "      <td>1</td>\n",
       "      <td>0</td>\n",
       "      <td>0</td>\n",
       "      <td>0</td>\n",
       "      <td>0</td>\n",
       "      <td>0</td>\n",
       "      <td>0</td>\n",
       "      <td>0</td>\n",
       "      <td>0</td>\n",
       "      <td>0</td>\n",
       "      <td>0</td>\n",
       "      <td>0</td>\n",
       "      <td>0</td>\n",
       "      <td>2</td>\n",
       "    </tr>\n",
       "    <tr>\n",
       "      <th>5790</th>\n",
       "      <td>1</td>\n",
       "      <td>0</td>\n",
       "      <td>0</td>\n",
       "      <td>0</td>\n",
       "      <td>0</td>\n",
       "      <td>0</td>\n",
       "      <td>0</td>\n",
       "      <td>0</td>\n",
       "      <td>0</td>\n",
       "      <td>0</td>\n",
       "      <td>0</td>\n",
       "      <td>0</td>\n",
       "      <td>0</td>\n",
       "      <td>0</td>\n",
       "      <td>0</td>\n",
       "      <td>0</td>\n",
       "    </tr>\n",
       "    <tr>\n",
       "      <th>5116</th>\n",
       "      <td>0</td>\n",
       "      <td>0</td>\n",
       "      <td>0</td>\n",
       "      <td>0</td>\n",
       "      <td>0</td>\n",
       "      <td>1</td>\n",
       "      <td>0</td>\n",
       "      <td>0</td>\n",
       "      <td>0</td>\n",
       "      <td>0</td>\n",
       "      <td>0</td>\n",
       "      <td>0</td>\n",
       "      <td>0</td>\n",
       "      <td>0</td>\n",
       "      <td>0</td>\n",
       "      <td>5</td>\n",
       "    </tr>\n",
       "    <tr>\n",
       "      <th>9631</th>\n",
       "      <td>1</td>\n",
       "      <td>0</td>\n",
       "      <td>0</td>\n",
       "      <td>0</td>\n",
       "      <td>0</td>\n",
       "      <td>0</td>\n",
       "      <td>0</td>\n",
       "      <td>0</td>\n",
       "      <td>0</td>\n",
       "      <td>0</td>\n",
       "      <td>0</td>\n",
       "      <td>0</td>\n",
       "      <td>0</td>\n",
       "      <td>0</td>\n",
       "      <td>0</td>\n",
       "      <td>0</td>\n",
       "    </tr>\n",
       "    <tr>\n",
       "      <th>10960</th>\n",
       "      <td>1</td>\n",
       "      <td>0</td>\n",
       "      <td>0</td>\n",
       "      <td>0</td>\n",
       "      <td>0</td>\n",
       "      <td>0</td>\n",
       "      <td>0</td>\n",
       "      <td>0</td>\n",
       "      <td>0</td>\n",
       "      <td>0</td>\n",
       "      <td>0</td>\n",
       "      <td>0</td>\n",
       "      <td>0</td>\n",
       "      <td>0</td>\n",
       "      <td>0</td>\n",
       "      <td>0</td>\n",
       "    </tr>\n",
       "  </tbody>\n",
       "</table>\n",
       "</div>"
      ],
      "text/plain": [
       "       Salary_0  Salary_1  Salary_2  Salary_3  Salary_4  Salary_5  Salary_6  \\\n",
       "9989          0         0         0         0         0         0         0   \n",
       "7833          0         0         0         0         0         0         0   \n",
       "2447          0         1         0         0         0         0         0   \n",
       "6290          0         0         0         0         0         1         0   \n",
       "328           0         0         1         0         0         0         0   \n",
       "7517          0         0         1         0         0         0         0   \n",
       "5790          1         0         0         0         0         0         0   \n",
       "5116          0         0         0         0         0         1         0   \n",
       "9631          1         0         0         0         0         0         0   \n",
       "10960         1         0         0         0         0         0         0   \n",
       "\n",
       "       Salary_7  Salary_8  Salary_9  Salary_10  Salary_11  Salary_12  \\\n",
       "9989          1         0         0          0          0          0   \n",
       "7833          0         0         0          1          0          0   \n",
       "2447          0         0         0          0          0          0   \n",
       "6290          0         0         0          0          0          0   \n",
       "328           0         0         0          0          0          0   \n",
       "7517          0         0         0          0          0          0   \n",
       "5790          0         0         0          0          0          0   \n",
       "5116          0         0         0          0          0          0   \n",
       "9631          0         0         0          0          0          0   \n",
       "10960         0         0         0          0          0          0   \n",
       "\n",
       "       Salary_13  Salary_14  Q10_Encoded  \n",
       "9989           0          0            7  \n",
       "7833           0          0           10  \n",
       "2447           0          0            1  \n",
       "6290           0          0            5  \n",
       "328            0          0            2  \n",
       "7517           0          0            2  \n",
       "5790           0          0            0  \n",
       "5116           0          0            5  \n",
       "9631           0          0            0  \n",
       "10960          0          0            0  "
      ]
     },
     "execution_count": 111,
     "metadata": {},
     "output_type": "execute_result"
    }
   ],
   "source": [
    "ytest.head(10)"
   ]
  },
  {
   "cell_type": "code",
   "execution_count": 112,
   "metadata": {},
   "outputs": [],
   "source": [
    "# calculate accuracy and recall on test set\n",
    "y_prediction = y_prob_df.idxmax(axis=1)\n",
    "acc = accuracy_score(y_prediction, ytest['Q10_Encoded'])"
   ]
  },
  {
   "cell_type": "code",
   "execution_count": 113,
   "metadata": {},
   "outputs": [
    {
     "data": {
      "text/plain": [
       "0.38533333333333336"
      ]
     },
     "execution_count": 113,
     "metadata": {},
     "output_type": "execute_result"
    }
   ],
   "source": [
    "acc"
   ]
  },
  {
   "cell_type": "code",
   "execution_count": 130,
   "metadata": {},
   "outputs": [
    {
     "data": {
      "text/plain": [
       "0.38533333333333336"
      ]
     },
     "execution_count": 130,
     "metadata": {},
     "output_type": "execute_result"
    }
   ],
   "source": [
    "recall_score(y_prediction, ytest['Q10_Encoded'], average='weighted')"
   ]
  },
  {
   "cell_type": "code",
   "execution_count": 125,
   "metadata": {},
   "outputs": [
    {
     "data": {
      "text/plain": [
       "0.390762547159026"
      ]
     },
     "execution_count": 125,
     "metadata": {},
     "output_type": "execute_result"
    }
   ],
   "source": [
    "# calculate accuracy and recall on training set\n",
    "y_prob_dict = dict(zip(salary_index, y_train_probability))\n",
    "y_prob_df = pd.DataFrame(y_prob_dict)\n",
    "y_tr_pred = y_prob_df.idxmax(axis=1)\n",
    "\n",
    "acc = accuracy_score(y_tr_pred, ytrain['Q10_Encoded'])\n",
    "acc"
   ]
  },
  {
   "cell_type": "code",
   "execution_count": 128,
   "metadata": {},
   "outputs": [
    {
     "data": {
      "text/plain": [
       "0.390762547159026"
      ]
     },
     "execution_count": 128,
     "metadata": {},
     "output_type": "execute_result"
    }
   ],
   "source": [
    "recall_score(y_tr_pred, ytrain['Q10_Encoded'], average='weighted')"
   ]
  },
  {
   "cell_type": "markdown",
   "metadata": {},
   "source": [
    "##### 7.2.2 Build one logistic regression model to predict multiclass"
   ]
  },
  {
   "cell_type": "markdown",
   "metadata": {},
   "source": [
    "#### Split the data and target\n"
   ]
  },
  {
   "cell_type": "code",
   "execution_count": null,
   "metadata": {},
   "outputs": [],
   "source": [
    "Xtrain, Xtest, ytrain, ytest = train_test_split(X, y, test_size=0.3) "
   ]
  },
  {
   "cell_type": "markdown",
   "metadata": {
    "colab_type": "text",
    "id": "Ea_jInhkwi83"
   },
   "source": [
    "#### 10-fold Cross Validation\n"
   ]
  },
  {
   "cell_type": "code",
   "execution_count": 136,
   "metadata": {},
   "outputs": [],
   "source": [
    "Xtrain, Xtest, ytrain, ytest = train_test_split(X, y, test_size=0.3) "
   ]
  },
  {
   "cell_type": "code",
   "execution_count": 137,
   "metadata": {
    "colab": {
     "base_uri": "https://localhost:8080/",
     "height": 224
    },
    "colab_type": "code",
    "id": "8uHLnxTuwi86",
    "outputId": "78f1eb29-2888-40e0-de41-dc47511fc01b"
   },
   "outputs": [
    {
     "name": "stdout",
     "output_type": "stream",
     "text": [
      "Fold 1: Accuracy: 34.743%\n",
      "Fold 2: Accuracy: 37.943%\n",
      "Fold 3: Accuracy: 34.743%\n",
      "Fold 4: Accuracy: 36.0%\n",
      "Fold 5: Accuracy: 37.714%\n",
      "Fold 6: Accuracy: 38.057%\n",
      "Fold 7: Accuracy: 39.543%\n",
      "Fold 8: Accuracy: 36.27%\n",
      "Fold 9: Accuracy: 39.359%\n",
      "Fold 10: Accuracy: 39.474%\n",
      "Average Score: 37.385%\n",
      "Standard Deviation of Score: 1.758%\n"
     ]
    }
   ],
   "source": [
    "# Split the training set into 10 folds for cross validation \n",
    "kfold = KFold(n_splits=10)\n",
    "kfold.get_n_splits(Xtrain)\n",
    "model = LogisticRegression()\n",
    "accuracy = np.zeros(10)\n",
    "np_idx = 0\n",
    "\n",
    "for train_idx, test_idx in kfold.split(Xtrain):\n",
    "    X_train, X_test = Xtrain.values[train_idx], Xtrain.values[test_idx]\n",
    "    y_train, y_test = ytrain.values[train_idx], ytrain.values[test_idx]\n",
    "    \n",
    "    X_train = scaler.fit_transform(X_train)    # standardize data\n",
    "    X_test = scaler.fit_transform(X_test)\n",
    "    \n",
    "    model.fit(X_train, y_train)     #fit data to the model\n",
    "    \n",
    "    ACC = 100*model.score(X_test, y_test)\n",
    "    accuracy[np_idx] = ACC    \n",
    "    np_idx += 1\n",
    "    \n",
    "    print (\"Fold {}: Accuracy: {}%\".format(np_idx, round(ACC,3)))      #round accuracy to 3-digit float\n",
    "\n",
    "print (\"Average Score: {}%\".format(round(np.mean(accuracy),3)))   #print average and std of accuracy\n",
    "print (\"Standard Deviation of Score: {}%\".format(round(np.std(accuracy),3)))"
   ]
  },
  {
   "cell_type": "markdown",
   "metadata": {
    "colab_type": "text",
    "id": "vZU_zjaTwi9A"
   },
   "source": [
    "Average accuracy is around 38%. Fold accuracies are similar as standard deviation of accuracy is small."
   ]
  },
  {
   "cell_type": "markdown",
   "metadata": {},
   "source": [
    "### ----------------------------------END-------------------------------\n",
    "Since we didn't specify \"random_seed\" in train_test_split, it is unreasonable to decide which algorithm is better by comparing their accuracies or recalls."
   ]
  },
  {
   "cell_type": "markdown",
   "metadata": {
    "colab_type": "text",
    "id": "5nPcJaDcW4a4"
   },
   "source": [
    "### 8. Model Tuning"
   ]
  },
  {
   "cell_type": "markdown",
   "metadata": {
    "colab_type": "text",
    "id": "hOTroB9twi9A"
   },
   "source": [
    "Then we tune model based on bias-variance trade-off. \n",
    "- Bias is calculated as E( E(h(x)) - E(y) ).\n",
    "- Variance is calculated as E( h(x) - E(h(x)) ).\n",
    "- Use cross-entropy loss to calculate train error and test error as prediction returns probability of a sample belonging to each class."
   ]
  },
  {
   "cell_type": "code",
   "execution_count": 56,
   "metadata": {
    "colab": {},
    "colab_type": "code",
    "id": "FYBErQ0E13Uf"
   },
   "outputs": [],
   "source": [
    "# Define functions to calculate bias and variance.\n",
    "def bias_calculation(y_true, y_pred):\n",
    "  y_true = np.array(y_true)\n",
    "  y_pred = np.array(y_pred)\n",
    "  y1 = np.mean(y_true)\n",
    "  y2 = np.mean(y_pred)\n",
    "  return np.power((y1-y2),2)\n",
    "def var_calculation(y_pred):\n",
    "  m = np.mean(y_pred)\n",
    "  squared = np.power((y_pred-m),2)\n",
    "  return np.mean(squared)"
   ]
  },
  {
   "cell_type": "code",
   "execution_count": 57,
   "metadata": {
    "colab": {},
    "colab_type": "code",
    "id": "TeH8_0XJ1-s-"
   },
   "outputs": [],
   "source": [
    "kfold = KFold(n_splits=10)\n",
    "kfold.get_n_splits(Xtrain)\n",
    "solver_list=['newton-cg','lbfgs','saga','sag']\n",
    "C_list = [0.00001, 0.0001, 0.001, 0.01, 0.1, 1, 10]\n",
    "\n",
    "s_bias_list = []\n",
    "s_variance_list = []\n",
    "\n",
    "s_train_error_list = []\n",
    "s_test_error_list = []\n",
    "\n",
    "for s in solver_list:\n",
    "  bias_list = []\n",
    "  variance_list = []\n",
    "  train_error_list = []\n",
    "  test_error_list = []\n",
    "\n",
    "  for c in C_list:\n",
    "    model = LogisticRegression(C=c, solver=s)\n",
    "    bias=[]\n",
    "    variance=[]\n",
    "    train_error=[]\n",
    "    test_error=[]\n",
    "    for train_idx, test_idx in kfold.split(Xtrain):\n",
    "\n",
    "      X_train, X_test = Xtrain.values[train_idx], Xtrain.values[test_idx]\n",
    "      y_train, y_test = ytrain.values[train_idx], ytrain.values[test_idx]\n",
    "    \n",
    "      X_train = scaler.fit_transform(X_train)    # standardize data\n",
    "      X_test = scaler.transform(X_test)\n",
    "    \n",
    "      model.fit(X_train, y_train)     #fit data to the model\n",
    "    \n",
    "      y_train_pred = model.predict(X_train)    #predict on the training set and test set of this fold\n",
    "      y_test_pred = model.predict(X_test)\n",
    "      y_train_prob = model.predict_proba(X_train)    #predict probability\n",
    "      y_test_prob = model.predict_proba(X_test)\n",
    "\n",
    "      trainerror = log_loss(y_train, y_train_prob)     #calculate error with cross-entropy loss\n",
    "      testerror = log_loss(y_test, y_test_prob)\n",
    "      bias_ = bias_calculation(y_test, y_test_pred)\n",
    "      var_ = var_calculation(y_test_pred)\n",
    "    \n",
    "      train_error.append(trainerror)\n",
    "      test_error.append(testerror)\n",
    "      bias.append(bias_)\n",
    "      variance.append(var_)\n",
    "      \n",
    "    bias_list.append(np.mean(bias))\n",
    "    variance_list.append(np.mean(variance))\n",
    "    train_error_list.append(np.mean(train_error))\n",
    "    test_error_list.append(np.mean(test_error))\n",
    "\n",
    "  s_bias_list.append(bias_list)\n",
    "  s_variance_list.append(variance_list)\n",
    "  s_train_error_list.append(train_error_list)\n",
    "  s_test_error_list.append(test_error_list)\n"
   ]
  },
  {
   "cell_type": "markdown",
   "metadata": {
    "colab_type": "text",
    "id": "S_BqTVjKEGOx"
   },
   "source": [
    "Plot bias-variance vs C for each solver."
   ]
  },
  {
   "cell_type": "code",
   "execution_count": 58,
   "metadata": {
    "colab": {
     "base_uri": "https://localhost:8080/",
     "height": 625
    },
    "colab_type": "code",
    "id": "G72rwOXO3b5C",
    "outputId": "578d924f-3bc4-44ac-b34e-3e738a0c2e56"
   },
   "outputs": [
    {
     "data": {
      "image/png": "[encoded data removed]",
      "text/plain": [
       "<Figure size 1080x720 with 4 Axes>"
      ]
     },
     "metadata": {
      "needs_background": "light"
     },
     "output_type": "display_data"
    }
   ],
   "source": [
    "variance_list = np.array(s_variance_list)\n",
    "bias_list = np.array(s_bias_list)\n",
    "train_error_list = np.array(s_train_error_list)\n",
    "test_error_list = np.array(s_test_error_list)\n",
    "\n",
    "total_list = variance_list + bias_list\n",
    "total_error_list = train_error_list + test_error_list\n",
    "\n",
    "fig = plt.subplots(2, 2, figsize=(15, 10))\n",
    "\n",
    "for i in range(len(solver_list)):\n",
    "  plt.subplot(2,2,i+1)\n",
    "  plt.plot(C_list, bias_list[i], color=\"red\",label=\"Bias\",linewidth = 2)\n",
    "  plt.plot(C_list, variance_list[i], color=\"blue\", label=\"Variance\", linewidth = 2)\n",
    "  plt.plot(C_list, total_list[i], color=\"green\", label=\"total error\", linewidth = 2)\n",
    "  plt.semilogx()\n",
    "  plt.ylim(0, 20)\n",
    "  plt.xlabel('C')\n",
    "  plt.title('Solver = {}'.format(solver_list[i]))\n",
    "  plt.legend(loc='best')"
   ]
  },
  {
   "cell_type": "markdown",
   "metadata": {
    "colab_type": "text",
    "id": "A_L-ETzo2HrM"
   },
   "source": [
    "  The bias-variance plots show that the effect of varying solver on value and trend of bias and variance is extremely small. The four plots look almost identical.<br>\n",
    "  As C increases, bias decreases while variance goes up. To consider bias variance trade-off, C=0.001 would be the best C as the bias is low and the variance is not too high.<br>\n",
    "  Then let's select a solver by comparing bias."
   ]
  },
  {
   "cell_type": "code",
   "execution_count": 59,
   "metadata": {
    "colab": {
     "base_uri": "https://localhost:8080/",
     "height": 155
    },
    "colab_type": "code",
    "id": "FWIy2FJ-4yXX",
    "outputId": "4a467229-b3b9-47b1-ecbb-52c6ccab8184"
   },
   "outputs": [
    {
     "name": "stdout",
     "output_type": "stream",
     "text": [
      "Solver: newton-cg\n",
      "Bias at C=0.001 [6.69089453]\n",
      "Solver: lbfgs\n",
      "Bias at C=0.001 [6.69089453]\n",
      "Solver: saga\n",
      "Bias at C=0.001 [6.68376846]\n",
      "Solver: sag\n",
      "Bias at C=0.001 [6.69206226]\n"
     ]
    }
   ],
   "source": [
    "idx = np.where(np.array(C_list)==0.001)\n",
    "\n",
    "for i in range(len(solver_list)):\n",
    "  print ('Solver:', solver_list[i])\n",
    "  print ('Bias at C=0.001', bias_list[i][idx])"
   ]
  },
  {
   "cell_type": "markdown",
   "metadata": {
    "colab_type": "text",
    "id": "f13rMKX055aH"
   },
   "source": [
    "All solvers have the same bias values at C=0.001. We can pick any solver for logistic regression at C=0.001.<br>\n",
    "Then let's see training error and testing error."
   ]
  },
  {
   "cell_type": "code",
   "execution_count": 60,
   "metadata": {
    "colab": {
     "base_uri": "https://localhost:8080/",
     "height": 625
    },
    "colab_type": "code",
    "id": "hYH4vNQe6TZz",
    "outputId": "eb2e2df6-8082-4949-9c44-22d056894048"
   },
   "outputs": [
    {
     "data": {
      "image/png": "[encoded data removed]",
      "text/plain": [
       "<Figure size 1080x720 with 4 Axes>"
      ]
     },
     "metadata": {
      "needs_background": "light"
     },
     "output_type": "display_data"
    }
   ],
   "source": [
    "fig = plt.subplots(2, 2, figsize=(15, 10))\n",
    "\n",
    "for i in range(len(solver_list)):\n",
    "  plt.subplot(2,2,i+1)\n",
    "  plt.plot(C_list, train_error_list[i], color=\"red\",label=\"train\",linewidth = 2)\n",
    "  plt.plot(C_list, test_error_list[i], color=\"blue\", label=\"test\", linewidth = 2)\n",
    "  plt.plot(C_list, total_error_list[i], color=\"green\", label=\"total error\", linewidth = 2)\n",
    "  plt.semilogx()\n",
    "  plt.xlabel('C')\n",
    "  plt.title('Solver = {}'.format(solver_list[i]))\n",
    "  plt.legend(loc='best')"
   ]
  },
  {
   "cell_type": "markdown",
   "metadata": {
    "colab_type": "text",
    "id": "dCLZEuI5DEnD"
   },
   "source": [
    "The error plots show that the effect of varying solver on value and trend of train error and test error is extremely small. The four plots look almost identical.<br>\n",
    "  As C increases, both train error and test error decrease, while their gap increases. For C>=0.1, test error reaches a plateau. The gap between train error and test error is very small for all C and the gap keeps almost unchanged for C>=0.1. The model is less likely to overfit due to the small gap. We would like to select a smaller C based on bias-variance trade-off.<br>\n",
    "  Therefore, C=0.1 can be selected to build a logistic regression model. <br>\n",
    "  Then let's select a solver by comparing test error."
   ]
  },
  {
   "cell_type": "code",
   "execution_count": 61,
   "metadata": {
    "colab": {
     "base_uri": "https://localhost:8080/",
     "height": 155
    },
    "colab_type": "code",
    "id": "NGEQdl2GFe_9",
    "outputId": "285386af-6768-434e-a681-e254e604fc61"
   },
   "outputs": [
    {
     "name": "stdout",
     "output_type": "stream",
     "text": [
      "Solver: newton-cg\n",
      "Test error at C=0.1 [1.92650377]\n",
      "Solver: lbfgs\n",
      "Test error at C=0.1 [1.926505]\n",
      "Solver: saga\n",
      "Test error at C=0.1 [1.92632737]\n",
      "Solver: sag\n",
      "Test error at C=0.1 [1.92637509]\n"
     ]
    }
   ],
   "source": [
    "idx = np.where(np.array(C_list)==0.1)\n",
    "\n",
    "for i in range(len(solver_list)):\n",
    "  print ('Solver:', solver_list[i])\n",
    "  print ('Test error at C=0.1', test_error_list[i][idx])"
   ]
  },
  {
   "cell_type": "markdown",
   "metadata": {
    "colab_type": "text",
    "id": "eviMObFzF-wE"
   },
   "source": [
    "At C=0.1, 'saga' have the lowest train error values. <br>\n",
    "Based on test error, the best model has C=0.1 and solver 'saga'."
   ]
  },
  {
   "cell_type": "markdown",
   "metadata": {
    "colab_type": "text",
    "id": "5M04hWszwi9I"
   },
   "source": [
    "Now let's select an optimal model based on accuracy."
   ]
  },
  {
   "cell_type": "code",
   "execution_count": 62,
   "metadata": {
    "colab": {},
    "colab_type": "code",
    "id": "QersoDCiQJ70"
   },
   "outputs": [],
   "source": [
    "solver_list=['newton-cg','lbfgs','saga','sag']\n",
    "C_list = [0.00001, 0.0001, 0.001, 0.01, 0.1, 1, 10]\n",
    "\n",
    "accuracy_train_list = []\n",
    "recall_train_list = []\n",
    "accuracy_test_list = []\n",
    "recall_test_list = []\n",
    "\n",
    "for s in solver_list:\n",
    "  acc_train_list = []\n",
    "  rec_train_list = []\n",
    "  acc_test_list = []\n",
    "  rec_test_list = []\n",
    "\n",
    "  for c in C_list:\n",
    "    model = LogisticRegression(C=c, solver=s)\n",
    "    \n",
    "    X_train = scaler.fit_transform(Xtrain)    # standardize data\n",
    "    X_test = scaler.transform(Xtest)\n",
    "    \n",
    "    model.fit(X_train, ytrain)     #fit data to the model\n",
    "    \n",
    "    y_train_pred = model.predict(X_train)    #predict on the training set and test set of this fold\n",
    "    y_test_pred = model.predict(X_test)\n",
    "\n",
    "    acc_train = accuracy_score(ytrain, y_train_pred)\n",
    "    acc_test = accuracy_score(ytest, y_test_pred)\n",
    "    rec_train = recall_score(ytrain, y_train_pred, average='weighted')\n",
    "    rec_test = recall_score(ytest, y_test_pred, average='weighted')\n",
    "      \n",
    "    acc_train_list.append(acc_train)\n",
    "    acc_test_list.append(acc_test)\n",
    "    rec_train_list.append(rec_train)\n",
    "    rec_test_list.append(rec_test)\n",
    "\n",
    "  accuracy_train_list.append(acc_train_list)\n",
    "  accuracy_test_list.append(acc_test_list)\n",
    "  recall_train_list.append(rec_train_list)\n",
    "  recall_test_list.append(rec_test_list)"
   ]
  },
  {
   "cell_type": "markdown",
   "metadata": {
    "colab_type": "text",
    "id": "WS3DG_R5GQGH"
   },
   "source": [
    "Let's see accuracy and recall of train set and test set for different C and solver."
   ]
  },
  {
   "cell_type": "code",
   "execution_count": 63,
   "metadata": {
    "colab": {
     "base_uri": "https://localhost:8080/",
     "height": 625
    },
    "colab_type": "code",
    "id": "0sAOYOBmqCTq",
    "outputId": "40b25fa2-0ed7-4c8a-dd40-d6f1d9874247"
   },
   "outputs": [
    {
     "data": {
      "image/png": "[encoded data removed]",
      "text/plain": [
       "<Figure size 1080x720 with 4 Axes>"
      ]
     },
     "metadata": {
      "needs_background": "light"
     },
     "output_type": "display_data"
    }
   ],
   "source": [
    "fig = plt.subplots(2, 2, figsize=(15, 10))\n",
    "\n",
    "for i in range(len(solver_list)):\n",
    "  plt.subplot(2,2,i+1)\n",
    "  plt.plot(C_list, accuracy_train_list[i], color=\"red\", label=\"accuracy-train\",linewidth = 4)\n",
    "  plt.plot(C_list, accuracy_test_list[i], color=\"yellow\", label=\"accuracy-test\",linewidth = 4)\n",
    "  plt.plot(C_list, recall_train_list[i], color=\"blue\", label=\"recall-train\",linewidth = 2)\n",
    "  plt.plot(C_list, recall_test_list[i], color=\"green\", label=\"recall-test\",linewidth = 2)\n",
    "  plt.semilogx()\n",
    "  plt.xlabel('C')\n",
    "  plt.title('Solver = {}'.format(solver_list[i]))\n",
    "  plt.legend(loc='best')"
   ]
  },
  {
   "cell_type": "markdown",
   "metadata": {
    "colab_type": "text",
    "id": "sbqT4xb-VuDJ"
   },
   "source": [
    "- From the plots above, we see that accuracy and recall scores are very close for the same dataset. Impact of solve is very small as the four plots look almost identical. Both accuracy and recall increases with C.\n",
    "- Test scores are higher than train scores for C<=0.001 but lower than train scores for C>=0.01.\n",
    "- Accuracy reaches the top of graph at C=0.1 and stays around 0.395 for C>0.1.\n",
    "- Select solver based on test scores since test scores are lower than train scores at C=0.1 and we want scores to be as high as possible. "
   ]
  },
  {
   "cell_type": "code",
   "execution_count": 64,
   "metadata": {
    "colab": {
     "base_uri": "https://localhost:8080/",
     "height": 362
    },
    "colab_type": "code",
    "id": "Ud6W-fZo-0cU",
    "outputId": "777284ed-26b9-4789-b1be-986a937dec87"
   },
   "outputs": [
    {
     "name": "stdout",
     "output_type": "stream",
     "text": [
      "Solver: newton-cg\n",
      "Test Accuracy at C=0.1 [0.37226667]\n",
      "Test Recall at C=0.1 [0.37226667]\n",
      "Train Accuracy at C=0.1 [0.38653253]\n",
      "Train Recall at C=0.1 [0.38653253]\n",
      "Solver: lbfgs\n",
      "Test Accuracy at C=0.1 [0.37226667]\n",
      "Test Recall at C=0.1 [0.37226667]\n",
      "Train Accuracy at C=0.1 [0.38653253]\n",
      "Train Recall at C=0.1 [0.38653253]\n",
      "Solver: saga\n",
      "Test Accuracy at C=0.1 [0.3728]\n",
      "Test Recall at C=0.1 [0.3728]\n",
      "Train Accuracy at C=0.1 [0.38664685]\n",
      "Train Recall at C=0.1 [0.38664685]\n",
      "Solver: sag\n",
      "Test Accuracy at C=0.1 [0.37226667]\n",
      "Test Recall at C=0.1 [0.37226667]\n",
      "Train Accuracy at C=0.1 [0.38653253]\n",
      "Train Recall at C=0.1 [0.38653253]\n"
     ]
    }
   ],
   "source": [
    "idx = np.where(np.array(C_list)==0.1)\n",
    "\n",
    "for i in range(len(solver_list)):\n",
    "  print ('Solver:', solver_list[i])\n",
    "  print ('Test Accuracy at C=0.1', np.array(accuracy_test_list)[i][idx])\n",
    "  print ('Test Recall at C=0.1', np.array(recall_test_list)[i][idx])\n",
    "  print ('Train Accuracy at C=0.1', np.array(accuracy_train_list)[i][idx])\n",
    "  print ('Train Recall at C=0.1', np.array(recall_train_list)[i][idx])"
   ]
  },
  {
   "cell_type": "markdown",
   "metadata": {
    "colab_type": "text",
    "id": "NZhKY-mEZK5f"
   },
   "source": [
    "At C=0.1, 'saga' has the highest accuracy and recall scores.<br>\n",
    "In terms of bias-variance trade-off, train error and test error, and performance measure, an optimal model has C=0.1 and solver 'saga'."
   ]
  },
  {
   "cell_type": "markdown",
   "metadata": {
    "colab_type": "text",
    "id": "p7MAAZDM_r7p"
   },
   "source": [
    "### 9. Testing and Discussion\n",
    "Use C = 1 and solver = 'saga' to create a logistic regression model. Use the model to predict test data."
   ]
  },
  {
   "cell_type": "code",
   "execution_count": 66,
   "metadata": {
    "colab": {
     "base_uri": "https://localhost:8080/",
     "height": 51
    },
    "colab_type": "code",
    "id": "-KvEffu7b9HS",
    "outputId": "9ddb0d5f-9b03-4ff1-a303-db40ad159def"
   },
   "outputs": [
    {
     "name": "stdout",
     "output_type": "stream",
     "text": [
      "Train accuracy: 0.386646850348691\n",
      "Test accuracy: 0.3728\n"
     ]
    }
   ],
   "source": [
    "model = LogisticRegression(C=0.1, solver='saga')\n",
    "    \n",
    "X_train = scaler.fit_transform(Xtrain)    # standardize data\n",
    "X_test = scaler.transform(Xtest)\n",
    "    \n",
    "model.fit(X_train, ytrain)     #fit data to the model\n",
    "    \n",
    "y_train_pred = model.predict(X_train)    #predict on the training set and test set of this fold\n",
    "y_test_pred = model.predict(X_test)\n",
    "y_test_probability = model.predict_proba(X_test)\n",
    "acc_train = accuracy_score(ytrain, y_train_pred)\n",
    "acc_test = accuracy_score(ytest, y_test_pred)\n",
    "\n",
    "print ('Train accuracy:', acc_train)\n",
    "print ('Test accuracy:', acc_test)"
   ]
  },
  {
   "cell_type": "markdown",
   "metadata": {
    "colab_type": "text",
    "id": "7uO3zstcceo7"
   },
   "source": [
    "Train accuracy and test accuracy are close. Train accuracy is slightly higher than test accuracy, but their gap can be overlooked.\n",
    "This model is underfitting as the accuracy scores are lower than 0.5, which means the model mispredicts more than half of the train set and the test set."
   ]
  },
  {
   "cell_type": "code",
   "execution_count": 68,
   "metadata": {
    "colab": {
     "base_uri": "https://localhost:8080/",
     "height": 329
    },
    "colab_type": "code",
    "id": "g_ochHwTI3a0",
    "outputId": "d3528dd3-094f-47f9-e59f-62f4b0bf11cc"
   },
   "outputs": [
    {
     "name": "stdout",
     "output_type": "stream",
     "text": [
      "The sample actually belongs to class 2\n",
      "The sample is predicted to belong to class 1\n"
     ]
    },
    {
     "data": {
      "image/png": "[encoded data removed]",
      "text/plain": [
       "<Figure size 432x288 with 1 Axes>"
      ]
     },
     "metadata": {
      "needs_background": "light"
     },
     "output_type": "display_data"
    }
   ],
   "source": [
    "# Print prediction result of sample[1] in test set\n",
    "s = range(15)  #salary code\n",
    "plt.bar(s,y_test_probability[1])\n",
    "plt.xlabel('Salary code')\n",
    "plt.ylabel('Probability')\n",
    "plt.title('Probability of sample [2] belonging to each salary class')\n",
    "print ('The sample actually belongs to class', ytest.iloc[1])\n",
    "print ('The sample is predicted to belong to class', y_test_pred[1])"
   ]
  },
  {
   "cell_type": "code",
   "execution_count": 69,
   "metadata": {
    "colab": {
     "base_uri": "https://localhost:8080/",
     "height": 367
    },
    "colab_type": "code",
    "id": "TRDzj-sweRJf",
    "outputId": "8393da27-1923-455a-cb00-ebe8279867c2"
   },
   "outputs": [
    {
     "data": {
      "text/plain": [
       "[Text(0.5, 0, 'Salary'), Text(0.5, 1.0, 'Test set')]"
      ]
     },
     "execution_count": 69,
     "metadata": {},
     "output_type": "execute_result"
    },
    {
     "data": {
      "image/png": "[encoded data removed]",
      "text/plain": [
       "<Figure size 1080x360 with 2 Axes>"
      ]
     },
     "metadata": {
      "needs_background": "light"
     },
     "output_type": "display_data"
    }
   ],
   "source": [
    "#fig, ax = plt.subplots(1, 2, figsize=(15, 8))\n",
    "result = {'true': ytrain,\n",
    "          'predict': y_train_pred}\n",
    "result_test =  {'true': ytest,\n",
    "          'predict': y_test_pred}\n",
    "train_result = pd.DataFrame(result)\n",
    "test_result = pd.DataFrame(result_test)\n",
    "train_result['predict correct']=train_result['true']==train_result['predict']\n",
    "test_result['predict correct']=test_result['true']==test_result['predict']\n",
    "train_percent = train_result[['predict correct','true']].groupby(['true'], as_index=False).mean()\n",
    "test_percent = test_result[['predict correct','true']].groupby(['true'], as_index=False).mean()\n",
    "\n",
    "fig1, (ax1, ax2) = plt.subplots(1,2, figsize=(15,5))\n",
    "trainplot = sns.countplot(x='true', hue = 'predict correct', data=train_result, ax=ax1)\n",
    "trainplot.set(xlabel='Salary', title='Train set')\n",
    "\n",
    "testplot = sns.countplot(x='true', hue = 'predict correct', data=test_result, ax=ax2)\n",
    "testplot.set(xlabel='Salary', title='Test set')\n"
   ]
  },
  {
   "cell_type": "code",
   "execution_count": 70,
   "metadata": {
    "colab": {
     "base_uri": "https://localhost:8080/",
     "height": 367
    },
    "colab_type": "code",
    "id": "F_S50ly3kYUB",
    "outputId": "c2f0ca2a-d9cb-4ad5-edda-c51ef2d48062"
   },
   "outputs": [
    {
     "data": {
      "text/plain": [
       "[Text(0.5, 0, 'Salary'), Text(0.5, 1.0, 'Test set')]"
      ]
     },
     "execution_count": 70,
     "metadata": {},
     "output_type": "execute_result"
    },
    {
     "data": {
      "image/png": "[encoded data removed]",
      "text/plain": [
       "<Figure size 1080x360 with 2 Axes>"
      ]
     },
     "metadata": {
      "needs_background": "light"
     },
     "output_type": "display_data"
    }
   ],
   "source": [
    "#Calculate the accuracy rate of train set and test set\n",
    "#which is #pred_correct/#total_samples\n",
    "train_percent = train_result[['predict correct','true']].groupby(['true'], as_index=False).mean()\n",
    "test_percent = test_result[['predict correct','true']].groupby(['true'], as_index=False).mean()\n",
    "\n",
    "fig1, (ax1, ax2) = plt.subplots(1,2, figsize=(15,5))\n",
    "trainplot = sns.barplot(x='true', y = 'predict correct', data=train_percent, ax=ax1)\n",
    "trainplot.set(xlabel='Salary', title='Train set')\n",
    "\n",
    "testplot = sns.barplot(x='true', y = 'predict correct', data=test_percent, ax=ax2)\n",
    "testplot.set(xlabel='Salary', title='Test set')"
   ]
  },
  {
   "cell_type": "markdown",
   "metadata": {
    "colab_type": "text",
    "id": "NkKp28iok29Z"
   },
   "source": [
    "- As shown in the graphs above, low salary buckets (0, 1, 2, 3, 4, especially 0) and high salary buckets (10, 11, 12, 13, 14) generally have higher accurate prediction rate than middle salary buckets(5, 6, 7, 8, 9). Samples with middle salary classes may be very similar in terms of features, so model is hard to identify them.\n",
    "- Accuracy has something to do with the number of samples. Salary 0 has the largest amount of samples, and it has the highest accuracy rate. Model predict more accurately if there are a large number of samples for training.\n",
    "- If we increase size of salary buckets, prediction would be more accurate. For example, salary 0 becomes $0-20000, then the number of salary buckets decreases and we have fewer labels a model need for classification."
   ]
  },
  {
   "cell_type": "markdown",
   "metadata": {
    "colab_type": "text",
    "id": "4ScqUdqVAI7v"
   },
   "source": [
    "#### Ways to improve\n",
    "Accuracy can be increased by cleaning data, creating balanced dataset, selecting features, normalizing data, modifying hyperparameters, and changing model. \n",
    "- Cleaning out irrelevant data and arrange data in a reasonable way help model identify contribution of features to target better. \n",
    "- Use undersampling or oversampling to create a balanced dataset to build the model\n",
    "- Selecting most related features help reduce running time and unnecessary impact of other features on fitting.\n",
    "- Normalizing data reduces impact on weights due to different scale of feature values.\n",
    "- Modifying hyperparameters give us the optimal model based on specific performance measures. <br>\n",
    "- We have implemented most of the methods, but we haven't tried using other models, such as decision tree. We can also try other types of classification model and compare model performance."
   ]
  },
  {
   "cell_type": "code",
   "execution_count": null,
   "metadata": {},
   "outputs": [],
   "source": []
  }
 ],
 "metadata": {
  "accelerator": "GPU",
  "colab": {
   "collapsed_sections": [],
   "name": "MIE1624 Assignment 1.ipynb",
   "provenance": []
  },
  "kernelspec": {
   "display_name": "Python 3",
   "language": "python",
   "name": "python3"
  },
  "language_info": {
   "codemirror_mode": {
    "name": "ipython",
    "version": 3
   },
   "file_extension": ".py",
   "mimetype": "text/x-python",
   "name": "python",
   "nbconvert_exporter": "python",
   "pygments_lexer": "ipython3",
   "version": "3.7.3"
  }
 },
 "nbformat": 4,
 "nbformat_minor": 4
}
